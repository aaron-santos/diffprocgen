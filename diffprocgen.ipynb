{
 "cells": [
  {
   "cell_type": "markdown",
   "metadata": {},
   "source": [
    "# Differentiable Procedural Generation\n",
    "\n",
    "The idea behind differentiable procgen is to solve for procgen parameters rather than hand tune them. Many popular roguelikes have hand-tuned procgen parameters. It is not clear how they were derived, what effect changing them has, or how they interact with each other.\n",
    "\n",
    "## Angband\n",
    "\n",
    "https://github.com/angband/angband/blob/master/lib/gamedata/dungeon_profile.txt\n",
    "\n",
    "```\n",
    "params:11:50:200:2\n",
    "tunnel:10:30:15:25:50\n",
    "streamer:5:2:3:90:2:40\n",
    "cutoff:100\n",
    "```\n",
    "\n",
    "## Crawl\n",
    "\n",
    "https://github.com/crawl/crawl/blob/master/crawl-ref/source/dgn-layouts.cc\n",
    "\n",
    "```c\n",
    "// Make some rooms:\n",
    "int doorlevel = random2(11);\n",
    "int roomsize  = 4 + random2(5);\n",
    "roomsize += random2(6); // force a sequence point between random calls\n",
    "```\n",
    "\n",
    "## NetHack\n",
    "\n",
    "https://github.com/NetHack/NetHack/blob/NetHack-3.6.2/src/mklev.c\n",
    "\n",
    "```c\n",
    "if (!rn2(50))\n",
    "```\n",
    "\n",
    "## Pixel Dungeon\n",
    "\n",
    "For example Pixel Dungeon's level generator https://github.com/watabou/pixel-dungeon/blob/master/src/com/watabou/pixeldungeon/levels/RegularLevel.java\n",
    "\n",
    "```java\n",
    "int nConnected = (int)(rooms.size() * Random.Float( 0.5f, 0.7f ));\n",
    "```\n",
    "\n",
    "How can these parameters be derived?\n",
    "\n",
    "Consider generation as a function of parameters, and random input.\n",
    "\n",
    "```python\n",
    "def gen(parameters, random_input)\n",
    "    # Use parameters and random_input to make dungeon\n",
    "    return dungeon\n",
    "```\n",
    "\n",
    "Also consider a loss function as a function of parameters, random input, and a target value where the target value is a scalar.\n",
    "\n",
    "```python\n",
    "def loss(parameters, random_input, target):\n",
    "    dungeon = gen(parameters, random_input)\n",
    "    # score the dungeon and compare to target\n",
    "    score = ???\n",
    "    return (score - target) ** 2\n",
    "```\n",
    "\n",
    "\n",
    "If the loss function is differentiable (implying that the gen function is also differentiable) then the gradient of the score with respect to parameters can be calculated. Using the gradient, the parameters can be adjusted to minimize loss."
   ]
  },
  {
   "cell_type": "code",
   "execution_count": null,
   "metadata": {},
   "outputs": [],
   "source": [
    "!pip install --upgrade jax jaxlib matplotlib seaborn tensorflow joblib"
   ]
  },
  {
   "cell_type": "code",
   "execution_count": 1,
   "metadata": {},
   "outputs": [],
   "source": [
    "import sys"
   ]
  },
  {
   "cell_type": "code",
   "execution_count": 2,
   "metadata": {},
   "outputs": [
    {
     "data": {
      "text/plain": [
       "'3.7.3 (default, Mar 27 2019, 16:54:48) \\n[Clang 4.0.1 (tags/RELEASE_401/final)]'"
      ]
     },
     "execution_count": 2,
     "metadata": {},
     "output_type": "execute_result"
    }
   ],
   "source": [
    "sys.version"
   ]
  },
  {
   "cell_type": "code",
   "execution_count": 3,
   "metadata": {},
   "outputs": [
    {
     "data": {
      "text/plain": [
       "['/Users/aaron/src/notebooks',\n",
       " '/Users/aaron/anaconda3/envs/diff_procgen/lib/python37.zip',\n",
       " '/Users/aaron/anaconda3/envs/diff_procgen/lib/python3.7',\n",
       " '/Users/aaron/anaconda3/envs/diff_procgen/lib/python3.7/lib-dynload',\n",
       " '',\n",
       " '/Users/aaron/anaconda3/envs/diff_procgen/lib/python3.7/site-packages',\n",
       " '/Users/aaron/anaconda3/envs/diff_procgen/lib/python3.7/site-packages/IPython/extensions',\n",
       " '/Users/aaron/.ipython']"
      ]
     },
     "execution_count": 3,
     "metadata": {},
     "output_type": "execute_result"
    }
   ],
   "source": [
    "sys.path"
   ]
  },
  {
   "cell_type": "code",
   "execution_count": 4,
   "metadata": {},
   "outputs": [
    {
     "name": "stderr",
     "output_type": "stream",
     "text": [
      "/Users/aaron/anaconda3/envs/diff_procgen/lib/python3.7/site-packages/tensorflow/python/framework/dtypes.py:516: FutureWarning: Passing (type, 1) or '1type' as a synonym of type is deprecated; in a future version of numpy, it will be understood as (type, (1,)) / '(1,)type'.\n",
      "  _np_qint8 = np.dtype([(\"qint8\", np.int8, 1)])\n",
      "/Users/aaron/anaconda3/envs/diff_procgen/lib/python3.7/site-packages/tensorflow/python/framework/dtypes.py:517: FutureWarning: Passing (type, 1) or '1type' as a synonym of type is deprecated; in a future version of numpy, it will be understood as (type, (1,)) / '(1,)type'.\n",
      "  _np_quint8 = np.dtype([(\"quint8\", np.uint8, 1)])\n",
      "/Users/aaron/anaconda3/envs/diff_procgen/lib/python3.7/site-packages/tensorflow/python/framework/dtypes.py:518: FutureWarning: Passing (type, 1) or '1type' as a synonym of type is deprecated; in a future version of numpy, it will be understood as (type, (1,)) / '(1,)type'.\n",
      "  _np_qint16 = np.dtype([(\"qint16\", np.int16, 1)])\n",
      "/Users/aaron/anaconda3/envs/diff_procgen/lib/python3.7/site-packages/tensorflow/python/framework/dtypes.py:519: FutureWarning: Passing (type, 1) or '1type' as a synonym of type is deprecated; in a future version of numpy, it will be understood as (type, (1,)) / '(1,)type'.\n",
      "  _np_quint16 = np.dtype([(\"quint16\", np.uint16, 1)])\n",
      "/Users/aaron/anaconda3/envs/diff_procgen/lib/python3.7/site-packages/tensorflow/python/framework/dtypes.py:520: FutureWarning: Passing (type, 1) or '1type' as a synonym of type is deprecated; in a future version of numpy, it will be understood as (type, (1,)) / '(1,)type'.\n",
      "  _np_qint32 = np.dtype([(\"qint32\", np.int32, 1)])\n",
      "/Users/aaron/anaconda3/envs/diff_procgen/lib/python3.7/site-packages/tensorflow/python/framework/dtypes.py:525: FutureWarning: Passing (type, 1) or '1type' as a synonym of type is deprecated; in a future version of numpy, it will be understood as (type, (1,)) / '(1,)type'.\n",
      "  np_resource = np.dtype([(\"resource\", np.ubyte, 1)])\n",
      "/Users/aaron/anaconda3/envs/diff_procgen/lib/python3.7/site-packages/tensorboard/compat/tensorflow_stub/dtypes.py:541: FutureWarning: Passing (type, 1) or '1type' as a synonym of type is deprecated; in a future version of numpy, it will be understood as (type, (1,)) / '(1,)type'.\n",
      "  _np_qint8 = np.dtype([(\"qint8\", np.int8, 1)])\n",
      "/Users/aaron/anaconda3/envs/diff_procgen/lib/python3.7/site-packages/tensorboard/compat/tensorflow_stub/dtypes.py:542: FutureWarning: Passing (type, 1) or '1type' as a synonym of type is deprecated; in a future version of numpy, it will be understood as (type, (1,)) / '(1,)type'.\n",
      "  _np_quint8 = np.dtype([(\"quint8\", np.uint8, 1)])\n",
      "/Users/aaron/anaconda3/envs/diff_procgen/lib/python3.7/site-packages/tensorboard/compat/tensorflow_stub/dtypes.py:543: FutureWarning: Passing (type, 1) or '1type' as a synonym of type is deprecated; in a future version of numpy, it will be understood as (type, (1,)) / '(1,)type'.\n",
      "  _np_qint16 = np.dtype([(\"qint16\", np.int16, 1)])\n",
      "/Users/aaron/anaconda3/envs/diff_procgen/lib/python3.7/site-packages/tensorboard/compat/tensorflow_stub/dtypes.py:544: FutureWarning: Passing (type, 1) or '1type' as a synonym of type is deprecated; in a future version of numpy, it will be understood as (type, (1,)) / '(1,)type'.\n",
      "  _np_quint16 = np.dtype([(\"quint16\", np.uint16, 1)])\n",
      "/Users/aaron/anaconda3/envs/diff_procgen/lib/python3.7/site-packages/tensorboard/compat/tensorflow_stub/dtypes.py:545: FutureWarning: Passing (type, 1) or '1type' as a synonym of type is deprecated; in a future version of numpy, it will be understood as (type, (1,)) / '(1,)type'.\n",
      "  _np_qint32 = np.dtype([(\"qint32\", np.int32, 1)])\n",
      "/Users/aaron/anaconda3/envs/diff_procgen/lib/python3.7/site-packages/tensorboard/compat/tensorflow_stub/dtypes.py:550: FutureWarning: Passing (type, 1) or '1type' as a synonym of type is deprecated; in a future version of numpy, it will be understood as (type, (1,)) / '(1,)type'.\n",
      "  np_resource = np.dtype([(\"resource\", np.ubyte, 1)])\n"
     ]
    }
   ],
   "source": [
    "import os\n",
    "from joblib import Parallel, delayed\n",
    "import multiprocessing\n",
    "import time\n",
    "import itertools\n",
    "\n",
    "import numpy as onp\n",
    "import matplotlib.pyplot as plt\n",
    "\n",
    "import jax\n",
    "import jax.numpy as np\n",
    "from jax import grad, jit, vmap, random\n",
    "from jax.scipy.special import logsumexp, expit\n",
    "from jax.experimental import optimizers\n",
    "import jax.experimental.stax as stax\n",
    "import jax.random as random\n",
    "\n",
    "import tensorflow as tf\n",
    "from tensorflow.contrib.image import connected_components"
   ]
  },
  {
   "cell_type": "code",
   "execution_count": 5,
   "metadata": {},
   "outputs": [],
   "source": [
    "num_cores = multiprocessing.cpu_count()"
   ]
  },
  {
   "cell_type": "markdown",
   "metadata": {},
   "source": [
    "# Cave Generation\n",
    "\n",
    "Optimize for 50% walls 50% open space"
   ]
  },
  {
   "cell_type": "code",
   "execution_count": 86,
   "metadata": {},
   "outputs": [
    {
     "name": "stdout",
     "output_type": "stream",
     "text": [
      "(1, 1, 3, 3)\n"
     ]
    }
   ],
   "source": [
    "cols = 21\n",
    "rows = 21\n",
    "WALL = 1.\n",
    "SPACE = 0.\n",
    "\n",
    "key = random.PRNGKey(1)\n",
    "# kernel that counts number of adjacent 1's\n",
    "kernel = jax.numpy.ones((1, 1, 3, 3))\n",
    "print(kernel.shape)\n",
    "\n",
    "def print_map(a, threshold=0.5):\n",
    "    print(np.where(a[0, 0] > threshold , ord(' '), ord('#')).astype(np.uint8)._value.view(f'S{a.shape[2]}'))\n",
    "\n",
    "def caves_discrete(p):\n",
    "    a = np.where(random.uniform(key, shape=(rows, cols)) < p, SPACE, WALL)[None, None, :, :]\n",
    "    for i in range(4):\n",
    "        conv = jax.lax.conv(a, kernel, (1, 1), \"SAME\")\n",
    "        a = np.where(conv < 5.0, SPACE, WALL)\n",
    "    return a"
   ]
  },
  {
   "cell_type": "code",
   "execution_count": 7,
   "metadata": {},
   "outputs": [
    {
     "name": "stdout",
     "output_type": "stream",
     "text": [
      "[[b'############  #######']\n",
      " [b'###########       ###']\n",
      " [b'###########       ###']\n",
      " [b'############     ####']\n",
      " [b'############    #####']\n",
      " [b'## ####  ###    #####']\n",
      " [b'#   ###  ###     ####']\n",
      " [b'#   ###  ##      ####']\n",
      " [b'#   #######      ####']\n",
      " [b'##   #######    #####']\n",
      " [b'###   ###############']\n",
      " [b'#### ################']\n",
      " [b'#####################']\n",
      " [b'########    #########']\n",
      " [b'########    #########']\n",
      " [b'########    #########']\n",
      " [b'#####################']\n",
      " [b'#####################']\n",
      " [b'#####################']\n",
      " [b'#####################']\n",
      " [b'#####################']]\n"
     ]
    }
   ],
   "source": [
    "print_map(caves_discrete(0.50))"
   ]
  },
  {
   "cell_type": "code",
   "execution_count": 149,
   "metadata": {},
   "outputs": [
    {
     "data": {
      "image/png": "[encoded data removed]",
      "text/plain": [
       "<Figure size 432x288 with 2 Axes>"
      ]
     },
     "metadata": {
      "needs_background": "light"
     },
     "output_type": "display_data"
    }
   ],
   "source": [
    "def sigmoid(x):\n",
    "    return 1. / (1. + np.exp(-x))\n",
    "\n",
    "def caves_continuous(params, x):\n",
    "    # x (n, w, h)\n",
    "    threshold = params[0]\n",
    "    k = int((kernel.shape[2]-2)/2)\n",
    "    a = jax.lax.lax.pad(x,\n",
    "                        WALL,\n",
    "                        [(0, 0, 0),\n",
    "                         (0, 0, 0),\n",
    "                         (k, k, 0),\n",
    "                         (k, k, 0)])\n",
    "    for i in range(4):\n",
    "        conv = jax.lax.conv_general_dilated(a, kernel, (1, 1), \"SAME\",\n",
    "                                              dimension_numbers=(\"NCWH\", 'OIWH', \"NCWH\"))\n",
    "        # a is the sigmoid(sum of neighbors - threshold)\n",
    "        a = sigmoid(conv - threshold)\n",
    "    return a\n",
    "\n",
    "loss_kernel_cols = 5\n",
    "loss_kernel_rows = 5\n",
    "loss_kernel = jax.numpy.zeros((1, 1, loss_kernel_cols, loss_kernel_cols))\n",
    "for i in range(int(loss_kernel_cols/2), 0, -1):\n",
    "    index = jax.ops.index[0, 0,\n",
    "                          int(loss_kernel_cols/2-i):int(loss_kernel_cols/2+i+1),\n",
    "                          int(loss_kernel_cols/2-i):int(loss_kernel_cols/2+i+1)]\n",
    "    loss_kernel = jax.ops.index_update(loss_kernel, index, \n",
    "                                  float(2. * i - 3))\n",
    "loss_kernel = jax.ops.index_update(loss_kernel, jax.ops.index[0, 0,\n",
    "                                                  int(loss_kernel_cols/2),\n",
    "                                                  int(loss_kernel_cols/2)], 0.)\n",
    "plt.imshow(loss_kernel[0, 0, :, :])\n",
    "plt.colorbar()\n",
    "def caves_loss_1(params, batch):\n",
    "    x, y = batch\n",
    "    out = caves_continuous(params, x)\n",
    "    scores = np.mean(out, axis=(1, 2, 3))\n",
    "    return np.mean((scores - y) ** 2.)\n",
    "\n",
    "def caves_loss_2(params, batch):\n",
    "    x, y = batch\n",
    "    out = caves_continuous(params, x)\n",
    "    # map 0.0, 1.0 to -1.0, 1.0, convolve with kernel\n",
    "    conv = jax.lax.conv_general_dilated(out * 2.0- 1., loss_kernel * 2. - 1., (1, 1), \"SAME\",\n",
    "                                        dimension_numbers=(\"NCWH\", 'OIWH', \"NCWH\"))\n",
    "    target = np.reshape(np.tile(y, (conv.shape[3], conv.shape[2], 1, 1)), (y.shape[0], 1, conv.shape[2], conv.shape[3]))\n",
    "    #print(\"target.shape\", target.shape)\n",
    "    return np.sum((out - y) ** 2.) / x.shape[0]"
   ]
  },
  {
   "cell_type": "code",
   "execution_count": 150,
   "metadata": {},
   "outputs": [
    {
     "data": {
      "text/plain": [
       "<matplotlib.legend.Legend at 0x15e00e9e8>"
      ]
     },
     "execution_count": 150,
     "metadata": {},
     "output_type": "execute_result"
    },
    {
     "data": {
      "image/png": "[encoded data removed]",
      "text/plain": [
       "<Figure size 432x288 with 1 Axes>"
      ]
     },
     "metadata": {
      "needs_background": "light"
     },
     "output_type": "display_data"
    }
   ],
   "source": [
    "x = random.uniform(key, shape=(rows, cols))[None, None, :, :]\n",
    "plt.plot([(caves_loss_1([p],(x, np.array([0.5]))))\n",
    "          for p in np.linspace(-50, 50, 100)])\n",
    "g = jit(grad(caves_loss_1))\n",
    "plt.plot([g([p], (x, np.array([0.5])))\n",
    "          for p in np.linspace(-50, 50, 100)])\n",
    "plt.legend(['Loss w.r.t. threshold', 'Derivative of loss w.r.t. threshold'])"
   ]
  },
  {
   "cell_type": "code",
   "execution_count": 10,
   "metadata": {},
   "outputs": [
    {
     "name": "stdout",
     "output_type": "stream",
     "text": [
      "[[b'#####################']\n",
      " [b'#############   #####']\n",
      " [b'##########       ####']\n",
      " [b'#########       #####']\n",
      " [b'#   ###         #####']\n",
      " [b'#    ##          ####']\n",
      " [b'#    ##          ####']\n",
      " [b'#    ##           ###']\n",
      " [b'#    #           ####']\n",
      " [b'##              #####']\n",
      " [b'##         ##########']\n",
      " [b'##         ##########']\n",
      " [b'###         #########']\n",
      " [b'#####         #######']\n",
      " [b'#####             ###']\n",
      " [b'#####              ##']\n",
      " [b'###    ####        ##']\n",
      " [b'##    ######       ##']\n",
      " [b'##   ########  ######']\n",
      " [b'### #################']\n",
      " [b'#####################']]\n"
     ]
    }
   ],
   "source": [
    "print_map(caves_continuous(np.array([4.3]), random.uniform(key, shape=(rows, cols))[None, None, :, :]))"
   ]
  },
  {
   "cell_type": "code",
   "execution_count": 11,
   "metadata": {},
   "outputs": [
    {
     "data": {
      "text/plain": [
       "<matplotlib.colorbar.Colorbar at 0x13e3c4048>"
      ]
     },
     "execution_count": 11,
     "metadata": {},
     "output_type": "execute_result"
    },
    {
     "data": {
      "image/png": "[encoded data removed]",
      "text/plain": [
       "<Figure size 432x288 with 2 Axes>"
      ]
     },
     "metadata": {
      "needs_background": "light"
     },
     "output_type": "display_data"
    }
   ],
   "source": [
    "plt.imshow(caves_continuous([4.3], random.uniform(key, shape=(rows, cols))[None, None, :, :])[0,0,:,:])\n",
    "plt.colorbar()"
   ]
  },
  {
   "cell_type": "code",
   "execution_count": 12,
   "metadata": {},
   "outputs": [
    {
     "name": "stdout",
     "output_type": "stream",
     "text": [
      "(1, 1, 21, 21)\n",
      "(1, 1, 5, 5)\n"
     ]
    },
    {
     "data": {
      "image/png": "[encoded data removed]",
      "text/plain": [
       "<Figure size 432x288 with 4 Axes>"
      ]
     },
     "metadata": {
      "needs_background": "light"
     },
     "output_type": "display_data"
    }
   ],
   "source": [
    "def f(out):\n",
    "    print(out.shape)\n",
    "    print(loss_kernel.shape)\n",
    "    conv = jax.lax.conv(out, loss_kernel, (1, 1), \"SAME\")\n",
    "    return conv\n",
    "\n",
    "def plot_output_and_conv(params, x):\n",
    "    out = caves_continuous(params, x)\n",
    "    plt.subplot(121)\n",
    "    plt.imshow(out[0,0,:,:])\n",
    "    plt.colorbar()\n",
    "    plt.subplot(122)\n",
    "    plt.imshow(f(out)[0,0,:,:])\n",
    "    plt.colorbar()\n",
    "    plt.tight_layout()\n",
    "\n",
    "plot_output_and_conv([55.3], random.uniform(key, shape=(rows, cols))[None, None, :, :])"
   ]
  },
  {
   "cell_type": "markdown",
   "metadata": {},
   "source": [
    "Train Caves"
   ]
  },
  {
   "cell_type": "code",
   "execution_count": 151,
   "metadata": {},
   "outputs": [
    {
     "name": "stdout",
     "output_type": "stream",
     "text": [
      "Input shape: (1024, 1, 21, 21)\n",
      "Output shape (1024,)\n",
      "Num Epochs: 32\n",
      "Num Batches: 32\n",
      "\n",
      "Starting training...\n",
      "Epoch init \n",
      "Epoch 0 in 4.31 sec\n",
      "Training set accuracy 0.29635709524154663\n",
      "Test set accuracy 0.29635608196258545\n",
      "Epoch 1 in 0.11 sec\n",
      "Training set accuracy 0.29621174931526184\n",
      "Test set accuracy 0.2962154150009155\n",
      "Epoch 2 in 0.12 sec\n",
      "Training set accuracy 0.29604437947273254\n",
      "Test set accuracy 0.296066552400589\n",
      "Epoch 3 in 0.12 sec\n",
      "Training set accuracy 0.29587671160697937\n",
      "Test set accuracy 0.29588010907173157\n",
      "Epoch 4 in 0.12 sec\n",
      "Training set accuracy 0.2956494092941284\n",
      "Test set accuracy 0.2956731617450714\n",
      "Epoch 5 in 0.11 sec\n",
      "Training set accuracy 0.2954844534397125\n",
      "Test set accuracy 0.2954905033111572\n",
      "Epoch 6 in 0.11 sec\n",
      "Training set accuracy 0.2952669858932495\n",
      "Test set accuracy 0.2952885627746582\n",
      "Epoch 7 in 0.11 sec\n",
      "Training set accuracy 0.2950456738471985\n",
      "Test set accuracy 0.29501333832740784\n",
      "Epoch 8 in 0.11 sec\n",
      "Training set accuracy 0.2947836220264435\n",
      "Test set accuracy 0.29479077458381653\n",
      "Epoch 9 in 0.11 sec\n",
      "Training set accuracy 0.2944871783256531\n",
      "Test set accuracy 0.2944888174533844\n",
      "Epoch 10 in 0.11 sec\n",
      "Training set accuracy 0.2941325604915619\n",
      "Test set accuracy 0.2941601872444153\n",
      "Epoch 11 in 0.11 sec\n",
      "Training set accuracy 0.2938095033168793\n",
      "Test set accuracy 0.2938801646232605\n",
      "Epoch 12 in 0.11 sec\n",
      "Training set accuracy 0.2934093475341797\n",
      "Test set accuracy 0.2934796214103699\n",
      "Epoch 13 in 0.12 sec\n",
      "Training set accuracy 0.2930851876735687\n",
      "Test set accuracy 0.29312843084335327\n",
      "Epoch 14 in 0.13 sec\n",
      "Training set accuracy 0.2926274240016937\n",
      "Test set accuracy 0.2925582528114319\n",
      "Epoch 15 in 0.14 sec\n",
      "Training set accuracy 0.2920818626880646\n",
      "Test set accuracy 0.2920168936252594\n",
      "Epoch 16 in 0.13 sec\n",
      "Training set accuracy 0.29143965244293213\n",
      "Test set accuracy 0.2914241850376129\n",
      "Epoch 17 in 0.12 sec\n",
      "Training set accuracy 0.29048657417297363\n",
      "Test set accuracy 0.2905355989933014\n",
      "Epoch 18 in 0.13 sec\n",
      "Training set accuracy 0.28977730870246887\n",
      "Test set accuracy 0.2896985411643982\n",
      "Epoch 19 in 0.12 sec\n",
      "Training set accuracy 0.2884994447231293\n",
      "Test set accuracy 0.2886320650577545\n",
      "Epoch 20 in 0.12 sec\n",
      "Training set accuracy 0.28691208362579346\n",
      "Test set accuracy 0.2868528664112091\n",
      "Epoch 21 in 0.12 sec\n",
      "Training set accuracy 0.2845568358898163\n",
      "Test set accuracy 0.2845924198627472\n",
      "Epoch 22 in 0.12 sec\n",
      "Training set accuracy 0.2812674939632416\n",
      "Test set accuracy 0.281061589717865\n",
      "Epoch 23 in 0.13 sec\n",
      "Training set accuracy 0.27559536695480347\n",
      "Test set accuracy 0.2740779221057892\n",
      "Epoch 24 in 0.13 sec\n",
      "Training set accuracy 0.2601202726364136\n",
      "Test set accuracy 0.2588167190551758\n",
      "Epoch 25 in 0.12 sec\n",
      "Training set accuracy 0.19280898571014404\n",
      "Test set accuracy 0.19660551846027374\n",
      "Epoch 26 in 0.13 sec\n",
      "Training set accuracy 0.005236406344920397\n",
      "Test set accuracy 0.008687544614076614\n",
      "Epoch 27 in 0.12 sec\n",
      "Training set accuracy 0.0038575828075408936\n",
      "Test set accuracy 0.005857913289219141\n",
      "Epoch 28 in 0.11 sec\n",
      "Training set accuracy 0.0051309652626514435\n",
      "Test set accuracy 0.005012621637433767\n",
      "Epoch 29 in 0.11 sec\n",
      "Training set accuracy 0.005367643665522337\n",
      "Test set accuracy 0.006168852094560862\n",
      "Epoch 30 in 0.11 sec\n",
      "Training set accuracy 0.005066064652055502\n",
      "Test set accuracy 0.0041343457996845245\n",
      "Epoch 31 in 0.12 sec\n",
      "Training set accuracy 0.003973962273448706\n",
      "Test set accuracy 0.00728981290012598\n"
     ]
    },
    {
     "data": {
      "text/plain": [
       "DeviceArray([4.3777256], dtype=float32)"
      ]
     },
     "execution_count": 151,
     "metadata": {},
     "output_type": "execute_result"
    },
    {
     "data": {
      "image/png": "[encoded data removed]",
      "text/plain": [
       "<Figure size 432x288 with 1 Axes>"
      ]
     },
     "metadata": {
      "needs_background": "light"
     },
     "output_type": "display_data"
    }
   ],
   "source": [
    "def cave_opt():\n",
    "    init_rng = random.PRNGKey(0)\n",
    "    step_size = 0.1\n",
    "    momentum_mass = 0.9\n",
    "    num_epochs = 32\n",
    "    batch_size = 32\n",
    "    train_X = np.squeeze(np.array([onp.random.rand(1, 1, rows, cols) for _ in range(num_epochs * batch_size)]), 1)\n",
    "    train_y = np.array([.45 for _ in range(train_X.shape[0])])\n",
    "    num_train = train_X.shape[0]\n",
    "    num_complete_batches, leftover = divmod(train_X.shape[0], batch_size)\n",
    "    num_batches = num_complete_batches + bool(leftover)\n",
    "    print(\"Input shape:\", train_X.shape)\n",
    "    print(\"Output shape\", train_y.shape)\n",
    "    print(\"Num Epochs:\", num_epochs)\n",
    "    print(\"Num Batches:\", num_batches)\n",
    "\n",
    "    def data_stream():\n",
    "        rng = onp.random.RandomState(0)\n",
    "        while True:\n",
    "            perm = rng.permutation(num_train)\n",
    "            for i in range(num_batches):\n",
    "                batch_idx = perm[i * batch_size:(i + 1) * batch_size]\n",
    "                yield train_X[batch_idx], train_y[batch_idx]\n",
    "    batches = data_stream()\n",
    "  \n",
    "\n",
    "\n",
    "    opt_init, opt_update, get_params = optimizers.momentum(step_size, mass=momentum_mass)\n",
    "\n",
    "    @jit\n",
    "    def update(rng, i, opt_state, batch):\n",
    "        params = get_params(opt_state)\n",
    "        return opt_update(i, grad(caves_loss_1)(params, batch), opt_state)\n",
    "\n",
    "    init_params = np.array([2.])\n",
    "    opt_state = opt_init(init_params)\n",
    "    itercount = itertools.count()\n",
    "\n",
    "    \n",
    "    print(\"\\nStarting training...\")\n",
    "    losses = []\n",
    "    test_accs = []\n",
    "    params = get_params(opt_state)\n",
    "    #train_acc = accuracy(params, (train_images, train_cc), rng=init_rng)\n",
    "    #losses.append(train_acc)\n",
    "    #test_acc = test_accuracy(params)\n",
    "    #test_accs.append(test_acc)\n",
    "    print(\"Epoch init \")\n",
    "    #print(\"Training set accuracy {}\".format(train_acc))\n",
    "    #print(\"Test set accuracy {}\".format(test_acc))\n",
    "\n",
    "    for epoch in range(num_epochs):\n",
    "        rng = random.PRNGKey(epoch)\n",
    "        start_time = time.time()\n",
    "        epoch_batch = None\n",
    "        for _ in range(num_batches):\n",
    "            batch = next(batches)\n",
    "            epoch_batch = batch\n",
    "            opt_state = update(rng, next(itercount), opt_state, batch)\n",
    "        params = get_params(opt_state)\n",
    "        losses.append(caves_loss_1(params, epoch_batch))\n",
    "        test_accs.append(caves_loss_1(params, next(batches)))\n",
    "        epoch_time = time.time() - start_time\n",
    "        print(\"Epoch {} in {:0.2f} sec\".format(epoch, epoch_time))\n",
    "        print(\"Training set accuracy {}\".format(losses[-1]))\n",
    "        print(\"Test set accuracy {}\".format(test_accs[-1]))\n",
    "    plt.plot(losses)\n",
    "    plt.plot(test_accs)\n",
    "    return params\n",
    "\n",
    "cave_params = cave_opt()\n",
    "cave_params"
   ]
  },
  {
   "cell_type": "code",
   "execution_count": 152,
   "metadata": {},
   "outputs": [
    {
     "name": "stdout",
     "output_type": "stream",
     "text": [
      "[4.3777256]\n",
      "85.45736\n"
     ]
    },
    {
     "data": {
      "image/png": "[encoded data removed]",
      "text/plain": [
       "<Figure size 864x864 with 12 Axes>"
      ]
     },
     "metadata": {
      "needs_background": "light"
     },
     "output_type": "display_data"
    }
   ],
   "source": [
    "print(cave_params)\n",
    "print(caves_loss(cave_params, (onp.random.rand(1, 1, rows, cols), np.array([0.45]))))\n",
    "\n",
    "plt.subplots(figsize=(12, 12))\n",
    "\n",
    "for i in range(1, 4):\n",
    "    for j in range(1, 5):\n",
    "        for _ in range(100):\n",
    "            cs = np.where(caves_continuous(cave_params, onp.random.rand(1, 1, rows, cols)) > 0.5, 0., 1.)\n",
    "            if np.sum(cs) < 250 :\n",
    "                break\n",
    "        plt.subplot(3, 4, (i - 1) * 4 + j)\n",
    "        plt.imshow(onp.random.binomial(1, cs)[0, 0], vmin=0., vmax=1.)\n",
    "plt.tight_layout()"
   ]
  },
  {
   "cell_type": "markdown",
   "metadata": {},
   "source": [
    "# Graph Dungeon Generation"
   ]
  },
  {
   "cell_type": "code",
   "execution_count": 8,
   "metadata": {},
   "outputs": [
    {
     "data": {
      "text/plain": [
       "<matplotlib.image.AxesImage at 0x14c8eeda0>"
      ]
     },
     "execution_count": 8,
     "metadata": {},
     "output_type": "execute_result"
    },
    {
     "data": {
      "image/png": "[encoded data removed]",
      "text/plain": [
       "<Figure size 432x288 with 1 Axes>"
      ]
     },
     "metadata": {
      "needs_background": "light"
     },
     "output_type": "display_data"
    }
   ],
   "source": [
    "dungeon_cols = 12\n",
    "dungeon_rows = 12\n",
    "\n",
    "def make_adj_matrix(rows, cols):\n",
    "    n = rows * cols\n",
    "    M = np.zeros((1, 1, n, n))\n",
    "    for r in range(rows):\n",
    "        for c in range(cols):\n",
    "            i = r * cols + c\n",
    "            # Two inner diagonals\n",
    "            if c > 0:\n",
    "                #M[i - 1, i] = M[i, i - 1] = 1\n",
    "                M = jax.ops.index_update(M, jax.ops.index[0, 0, i - 1, i], 1.)\n",
    "                M = jax.ops.index_update(M, jax.ops.index[0, 0, i, i - 1], 1.)\n",
    "            # Two outer diagonals\n",
    "            if r > 0:\n",
    "                #M[i - cols, i] = M[i, i - cols] = 1\n",
    "                M = jax.ops.index_update(M, jax.ops.index[0, 0, i - cols, i], 1.)\n",
    "                M = jax.ops.index_update(M, jax.ops.index[0, 0, i, i - cols], 1.)\n",
    "    return np.triu(M)\n",
    "\n",
    "mask = make_adj_matrix(dungeon_rows, dungeon_cols)\n",
    "plt.imshow(np.multiply(mask,\n",
    "                       np.full(mask.shape, .5))[0, 0, :, :], vmin=0., vmax=1.)"
   ]
  },
  {
   "cell_type": "code",
   "execution_count": 21,
   "metadata": {},
   "outputs": [
    {
     "data": {
      "image/png": "[encoded data removed]",
      "text/plain": [
       "<Figure size 432x288 with 1 Axes>"
      ]
     },
     "metadata": {
      "needs_background": "light"
     },
     "output_type": "display_data"
    }
   ],
   "source": [
    "def draw_dungeon(M, cols, rows):\n",
    "    dungeon = onp.ones((rows*4-1, cols*4-1))\n",
    "    for src in range(M.shape[0]):\n",
    "        for dest in range(M.shape[1]):\n",
    "            corridor = M[src, dest]\n",
    "            if src==dest:\n",
    "                dungeon[4 * (src % cols) : 4 * (src % cols) + 3,\n",
    "                        4 * (src // cols) : 4 * (src // cols) + 3] = 0.\n",
    "            elif corridor > .5:\n",
    "                src_col = (src % cols)\n",
    "                src_row = src // cols\n",
    "                dest_col = (dest % cols)\n",
    "                dest_row = dest // cols\n",
    "                dungeon[4 * (src_row + dest_row) // 2 + 1,\n",
    "                        4 * (src_col + dest_col) // 2 + 1] = 0.\n",
    "    plt.imshow(dungeon, vmin=0., vmax=1.)\n",
    "draw_dungeon(mask[0, 0, :, :], dungeon_cols, dungeon_rows)"
   ]
  },
  {
   "cell_type": "code",
   "execution_count": 24,
   "metadata": {},
   "outputs": [
    {
     "name": "stdout",
     "output_type": "stream",
     "text": [
      "184\n"
     ]
    },
    {
     "data": {
      "image/png": "[encoded data removed]",
      "text/plain": [
       "<Figure size 432x288 with 1 Axes>"
      ]
     },
     "metadata": {
      "needs_background": "light"
     },
     "output_type": "display_data"
    }
   ],
   "source": [
    "def make_dense_matrix(rows, cols):\n",
    "    return np.zeros((1, 2, rows -1, cols - 1))\n",
    "\n",
    "def draw_dense_dungeon(M):\n",
    "    #M (batch, (0=horz/1=vert), row, col)\n",
    "    rows = M.shape[2]\n",
    "    cols = M.shape[3]\n",
    "    #dungeon (row, col)\n",
    "    dungeon = onp.ones((rows*4-1, cols*4-1))\n",
    "    for row in range(rows):\n",
    "        for col in range(cols):\n",
    "            # TODO: logic. room\n",
    "            # conn = 1. when there is a corridor\n",
    "            conn = np.array([\n",
    "                # above |\n",
    "                row > 0 and M[0, 1, row - 1, col] == 1.,\n",
    "                # below |\n",
    "                row < rows - 1 and M[0, 1, row, col] == 1.,\n",
    "                # left -\n",
    "                col > 0 and M[0, 0, row, col - 1] == 1.,\n",
    "                # right -\n",
    "                col < cols - 1 and M[0, 0, row, col] == 1.]).astype(np.float32)\n",
    "            if np.sum(conn) == 1. \\\n",
    "                or np.sum(conn) == 4. \\\n",
    "                or np.sum(conn) > 1. \\\n",
    "                    and onp.random.binomial(1, 0.85) == 0.:\n",
    "                dungeon[4 * row : 4 * row + 3,\n",
    "                        4 * col : 4 * col + 3] = 0.\n",
    "            # horizontal corridors - (left and right)\n",
    "            if col < cols - 1:\n",
    "                corridor = M[0, 0, row, col]\n",
    "                if corridor > 0.:\n",
    "                    #dungeon[4 * row + 1, 4 * col + 3] = corridor\n",
    "                    # d(row, col)\n",
    "                    dungeon[4 * row + 1, (4 * col + 1):(4 * col + 6)] = 0.\n",
    "            # vertical corridors | (above and below)\n",
    "            if row < rows - 1:\n",
    "                corridor = M[0, 1, row, col]\n",
    "                if corridor > 0.:\n",
    "                    #dungeon[4 * row + 3, 4 * col + 1] = corridor\n",
    "                    dungeon[(4 * row + 1):(4 * row + 6), 4 * col + 1] = 0.\n",
    "    return dungeon \n",
    "\n",
    "def plot_dense_dungeon(M):\n",
    "    plt.imshow(draw_dense_dungeon(M), vmin=0., vmax=1.)\n",
    "    \n",
    "kernel = jax.numpy.ones((2, 2, 3, 3))/(3.*3.)\n",
    "def dungeon(params, x):\n",
    "    for i in range(2):\n",
    "        kernel_a = params[i:i+1, 0:1, :, :]\n",
    "        kernel_b = params[i:i+1, 1:2, :, :]\n",
    "        a = x[:, 0:1, :, :]\n",
    "        b = x[:, 1:2, :, :]\n",
    "        #print(\"x\", x.shape)\n",
    "        #print(\"a\", a.shape)\n",
    "        #print(\"kernel_a\", kernel_a.shape)\n",
    "        #print(\"b\", b.shape)\n",
    "        #print(\"kernel_b\", kernel_b.shape)\n",
    "        conv_a = sigmoid(jax.lax.conv(a, kernel_a, (1, 1), \"SAME\"))\n",
    "        conv_b = sigmoid(jax.lax.conv(b, kernel_b, (1, 1), \"SAME\"))\n",
    "        x = np.stack([conv_a,\n",
    "                      conv_b],\n",
    "                     axis=2)[0]\n",
    "    return x\n",
    "\n",
    "d = onp.random.binomial(1, dungeon(kernel, onp.random.rand(1, 2, dungeon_rows, dungeon_cols)))\n",
    "print(np.sum(d))\n",
    "plot_dense_dungeon(d)"
   ]
  },
  {
   "cell_type": "code",
   "execution_count": 717,
   "metadata": {},
   "outputs": [
    {
     "name": "stdout",
     "output_type": "stream",
     "text": [
      "[[0. 0. 0. ... 1. 1. 1.]\n",
      " [0. 0. 0. ... 1. 1. 1.]\n",
      " [0. 0. 0. ... 1. 1. 1.]\n",
      " ...\n",
      " [1. 0. 1. ... 0. 0. 0.]\n",
      " [1. 0. 0. ... 0. 0. 0.]\n",
      " [1. 1. 1. ... 0. 0. 0.]]\n"
     ]
    },
    {
     "data": {
      "image/png": "[encoded data removed]",
      "text/plain": [
       "<Figure size 432x288 with 1 Axes>"
      ]
     },
     "metadata": {
      "needs_background": "light"
     },
     "output_type": "display_data"
    }
   ],
   "source": [
    "#draw_dense_dungeon(make_dense_matrix(dungeon_cols, dungeon_rows))\n",
    "\n",
    "d = onp.random.binomial(1, dungeon(kernel, onp.random.rand(1, 2, dungeon_rows, dungeon_cols)*0.5+0.5))\n",
    "print(draw_dense_dungeon(d))\n",
    "plot_dense_dungeon(d)"
   ]
  },
  {
   "cell_type": "code",
   "execution_count": 718,
   "metadata": {},
   "outputs": [
    {
     "name": "stdout",
     "output_type": "stream",
     "text": [
      "242\n"
     ]
    }
   ],
   "source": [
    "# horizontal connections + vertical connections\n",
    "num_edges_max = 2 * (dungeon_rows - 1) * (dungeon_cols - 1)\n",
    "print(num_edges_max)"
   ]
  },
  {
   "cell_type": "markdown",
   "metadata": {},
   "source": [
    "If the probability of edges is distributes according to bernoilli(p), what should p be in order to maximize large loops?\n",
    "\n",
    "Graph density\n",
    "<img src=\"https://www.python-course.eu/images/graph_density_formula.png\" />"
   ]
  },
  {
   "cell_type": "markdown",
   "metadata": {},
   "source": [
    "# TODO: Use ADAM optmizier"
   ]
  },
  {
   "cell_type": "code",
   "execution_count": 25,
   "metadata": {},
   "outputs": [
    {
     "name": "stdout",
     "output_type": "stream",
     "text": [
      "Input shape: (1024, 2, 12, 12)\n",
      "Output shape (1024,)\n",
      "Num Epochs: 32\n",
      "Num Batches: 32\n",
      "\n",
      "Starting training...\n",
      "Epoch init \n",
      "(2, 2, 5, 5) (32, 2, 12, 12) (32,)\n",
      "(2, 2, 5, 5) (32, 2, 12, 12) (32,)\n",
      "(2, 2, 5, 5) (32, 2, 12, 12) (32,)\n",
      "Epoch 0 in 1.36 sec\n",
      "Training set accuracy 6.378844738006592\n",
      "Test set accuracy 6.378844738006592\n",
      "(2, 2, 5, 5) (32, 2, 12, 12) (32,)\n",
      "(2, 2, 5, 5) (32, 2, 12, 12) (32,)\n",
      "Epoch 1 in 0.12 sec\n",
      "Training set accuracy 6.377216339111328\n",
      "Test set accuracy 6.377216339111328\n",
      "(2, 2, 5, 5) (32, 2, 12, 12) (32,)\n",
      "(2, 2, 5, 5) (32, 2, 12, 12) (32,)\n",
      "Epoch 2 in 0.13 sec\n",
      "Training set accuracy 6.375579357147217\n",
      "Test set accuracy 6.375579357147217\n",
      "(2, 2, 5, 5) (32, 2, 12, 12) (32,)\n",
      "(2, 2, 5, 5) (32, 2, 12, 12) (32,)\n",
      "Epoch 3 in 0.11 sec\n",
      "Training set accuracy 6.373936653137207\n",
      "Test set accuracy 6.373936653137207\n",
      "(2, 2, 5, 5) (32, 2, 12, 12) (32,)\n",
      "(2, 2, 5, 5) (32, 2, 12, 12) (32,)\n",
      "Epoch 4 in 0.12 sec\n",
      "Training set accuracy 6.372300148010254\n",
      "Test set accuracy 6.372299671173096\n",
      "(2, 2, 5, 5) (32, 2, 12, 12) (32,)\n",
      "(2, 2, 5, 5) (32, 2, 12, 12) (32,)\n",
      "Epoch 5 in 0.11 sec\n",
      "Training set accuracy 6.370665550231934\n",
      "Test set accuracy 6.370665073394775\n",
      "(2, 2, 5, 5) (32, 2, 12, 12) (32,)\n",
      "(2, 2, 5, 5) (32, 2, 12, 12) (32,)\n",
      "Epoch 6 in 0.12 sec\n",
      "Training set accuracy 6.369032382965088\n",
      "Test set accuracy 6.3690290451049805\n",
      "(2, 2, 5, 5) (32, 2, 12, 12) (32,)\n",
      "(2, 2, 5, 5) (32, 2, 12, 12) (32,)\n",
      "Epoch 7 in 0.11 sec\n",
      "Training set accuracy 6.3673996925354\n",
      "Test set accuracy 6.367385387420654\n",
      "(2, 2, 5, 5) (32, 2, 12, 12) (32,)\n",
      "(2, 2, 5, 5) (32, 2, 12, 12) (32,)\n",
      "Epoch 8 in 0.12 sec\n",
      "Training set accuracy 6.365767955780029\n",
      "Test set accuracy 6.365764617919922\n",
      "(2, 2, 5, 5) (32, 2, 12, 12) (32,)\n",
      "(2, 2, 5, 5) (32, 2, 12, 12) (32,)\n",
      "Epoch 9 in 0.11 sec\n",
      "Training set accuracy 6.3641357421875\n",
      "Test set accuracy 6.364131927490234\n",
      "(2, 2, 5, 5) (32, 2, 12, 12) (32,)\n",
      "(2, 2, 5, 5) (32, 2, 12, 12) (32,)\n",
      "Epoch 10 in 0.13 sec\n",
      "Training set accuracy 6.362503528594971\n",
      "Test set accuracy 6.362514495849609\n",
      "(2, 2, 5, 5) (32, 2, 12, 12) (32,)\n",
      "(2, 2, 5, 5) (32, 2, 12, 12) (32,)\n",
      "Epoch 11 in 0.11 sec\n",
      "Training set accuracy 6.360884189605713\n",
      "Test set accuracy 6.360870838165283\n",
      "(2, 2, 5, 5) (32, 2, 12, 12) (32,)\n",
      "(2, 2, 5, 5) (32, 2, 12, 12) (32,)\n",
      "Epoch 12 in 0.13 sec\n",
      "Training set accuracy 6.359264373779297\n",
      "Test set accuracy 6.359279632568359\n",
      "(2, 2, 5, 5) (32, 2, 12, 12) (32,)\n",
      "(2, 2, 5, 5) (32, 2, 12, 12) (32,)\n",
      "Epoch 13 in 0.13 sec\n",
      "Training set accuracy 6.357669830322266\n",
      "Test set accuracy 6.35763692855835\n",
      "(2, 2, 5, 5) (32, 2, 12, 12) (32,)\n",
      "(2, 2, 5, 5) (32, 2, 12, 12) (32,)\n",
      "Epoch 14 in 0.13 sec\n",
      "Training set accuracy 6.356037139892578\n",
      "Test set accuracy 6.3560285568237305\n",
      "(2, 2, 5, 5) (32, 2, 12, 12) (32,)\n",
      "(2, 2, 5, 5) (32, 2, 12, 12) (32,)\n",
      "Epoch 15 in 0.13 sec\n",
      "Training set accuracy 6.354414463043213\n",
      "Test set accuracy 6.354416370391846\n",
      "(2, 2, 5, 5) (32, 2, 12, 12) (32,)\n",
      "(2, 2, 5, 5) (32, 2, 12, 12) (32,)\n",
      "Epoch 16 in 0.13 sec\n",
      "Training set accuracy 6.352845668792725\n",
      "Test set accuracy 6.352870941162109\n",
      "(2, 2, 5, 5) (32, 2, 12, 12) (32,)\n",
      "(2, 2, 5, 5) (32, 2, 12, 12) (32,)\n",
      "Epoch 17 in 0.14 sec\n",
      "Training set accuracy 6.351258754730225\n",
      "Test set accuracy 6.351274013519287\n",
      "(2, 2, 5, 5) (32, 2, 12, 12) (32,)\n",
      "(2, 2, 5, 5) (32, 2, 12, 12) (32,)\n",
      "Epoch 18 in 0.13 sec\n",
      "Training set accuracy 6.349697113037109\n",
      "Test set accuracy 6.3497161865234375\n",
      "(2, 2, 5, 5) (32, 2, 12, 12) (32,)\n",
      "(2, 2, 5, 5) (32, 2, 12, 12) (32,)\n",
      "Epoch 19 in 0.11 sec\n",
      "Training set accuracy 6.3481550216674805\n",
      "Test set accuracy 6.348163604736328\n",
      "(2, 2, 5, 5) (32, 2, 12, 12) (32,)\n",
      "(2, 2, 5, 5) (32, 2, 12, 12) (32,)\n",
      "Epoch 20 in 0.12 sec\n",
      "Training set accuracy 6.346607208251953\n",
      "Test set accuracy 6.34665060043335\n",
      "(2, 2, 5, 5) (32, 2, 12, 12) (32,)\n",
      "(2, 2, 5, 5) (32, 2, 12, 12) (32,)\n",
      "Epoch 21 in 0.12 sec\n",
      "Training set accuracy 6.345139980316162\n",
      "Test set accuracy 6.345091342926025\n",
      "(2, 2, 5, 5) (32, 2, 12, 12) (32,)\n",
      "(2, 2, 5, 5) (32, 2, 12, 12) (32,)\n",
      "Epoch 22 in 0.12 sec\n",
      "Training set accuracy 6.3436784744262695\n",
      "Test set accuracy 6.3436598777771\n",
      "(2, 2, 5, 5) (32, 2, 12, 12) (32,)\n",
      "(2, 2, 5, 5) (32, 2, 12, 12) (32,)\n",
      "Epoch 23 in 0.11 sec\n",
      "Training set accuracy 6.3420915603637695\n",
      "Test set accuracy 6.342197418212891\n",
      "(2, 2, 5, 5) (32, 2, 12, 12) (32,)\n",
      "(2, 2, 5, 5) (32, 2, 12, 12) (32,)\n",
      "Epoch 24 in 0.12 sec\n",
      "Training set accuracy 6.340511322021484\n",
      "Test set accuracy 6.340595245361328\n",
      "(2, 2, 5, 5) (32, 2, 12, 12) (32,)\n",
      "(2, 2, 5, 5) (32, 2, 12, 12) (32,)\n",
      "Epoch 25 in 0.11 sec\n",
      "Training set accuracy 6.339157581329346\n",
      "Test set accuracy 6.339275360107422\n",
      "(2, 2, 5, 5) (32, 2, 12, 12) (32,)\n",
      "(2, 2, 5, 5) (32, 2, 12, 12) (32,)\n",
      "Epoch 26 in 0.13 sec\n",
      "Training set accuracy 6.337708473205566\n",
      "Test set accuracy 6.33767557144165\n",
      "(2, 2, 5, 5) (32, 2, 12, 12) (32,)\n",
      "(2, 2, 5, 5) (32, 2, 12, 12) (32,)\n",
      "Epoch 27 in 0.13 sec\n",
      "Training set accuracy 6.3364057540893555\n",
      "Test set accuracy 6.336350440979004\n",
      "(2, 2, 5, 5) (32, 2, 12, 12) (32,)\n",
      "(2, 2, 5, 5) (32, 2, 12, 12) (32,)\n",
      "Epoch 28 in 0.13 sec\n",
      "Training set accuracy 6.334975719451904\n",
      "Test set accuracy 6.334868907928467\n",
      "(2, 2, 5, 5) (32, 2, 12, 12) (32,)\n",
      "(2, 2, 5, 5) (32, 2, 12, 12) (32,)\n",
      "Epoch 29 in 0.14 sec\n",
      "Training set accuracy 6.333479404449463\n",
      "Test set accuracy 6.333846569061279\n",
      "(2, 2, 5, 5) (32, 2, 12, 12) (32,)\n",
      "(2, 2, 5, 5) (32, 2, 12, 12) (32,)\n",
      "Epoch 30 in 0.13 sec\n",
      "Training set accuracy 6.332233428955078\n",
      "Test set accuracy 6.3323259353637695\n",
      "(2, 2, 5, 5) (32, 2, 12, 12) (32,)\n",
      "(2, 2, 5, 5) (32, 2, 12, 12) (32,)\n",
      "Epoch 31 in 0.12 sec\n",
      "Training set accuracy 6.331010341644287\n",
      "Test set accuracy 6.330897808074951\n"
     ]
    },
    {
     "data": {
      "text/plain": [
       "DeviceArray([[[[0.02002749, 0.02179979, 0.02317274, 0.02180232,\n",
       "                0.02002242],\n",
       "               [0.02179768, 0.02372788, 0.02521933, 0.02372704,\n",
       "                0.02179298],\n",
       "               [0.02314292, 0.02519096, 0.0267714 , 0.02518393,\n",
       "                0.02313069],\n",
       "               [0.0217872 , 0.02371475, 0.02519803, 0.02369753,\n",
       "                0.02176142],\n",
       "               [0.02000072, 0.02177146, 0.02313346, 0.02175196,\n",
       "                0.01997033]],\n",
       "\n",
       "              [[0.01996441, 0.02174337, 0.0230884 , 0.02173569,\n",
       "                0.01996487],\n",
       "               [0.02174311, 0.02367809, 0.02514473, 0.0236715 ,\n",
       "                0.02174242],\n",
       "               [0.02310359, 0.02515834, 0.02671805, 0.02515713,\n",
       "                0.0231095 ],\n",
       "               [0.02174249, 0.02367857, 0.02515056, 0.02368327,\n",
       "                0.02175446],\n",
       "               [0.01995966, 0.02173895, 0.02309096, 0.02174375,\n",
       "                0.01997393]]],\n",
       "\n",
       "\n",
       "             [[[0.08190097, 0.09026252, 0.09884953, 0.09026241,\n",
       "                0.08189961],\n",
       "               [0.09025977, 0.09947042, 0.10892334, 0.09947058,\n",
       "                0.09025864],\n",
       "               [0.09884372, 0.10891999, 0.11924707, 0.10892029,\n",
       "                0.09884252],\n",
       "               [0.0902575 , 0.09946809, 0.1089211 , 0.09946807,\n",
       "                0.09025611],\n",
       "               [0.08189499, 0.09025647, 0.09884322, 0.09025615,\n",
       "                0.08189318]],\n",
       "\n",
       "              [[0.08189029, 0.09025035, 0.09883527, 0.09025078,\n",
       "                0.08189084],\n",
       "               [0.09025225, 0.09946163, 0.10891218, 0.09946191,\n",
       "                0.09025269],\n",
       "               [0.09883869, 0.10891393, 0.1192386 , 0.10891424,\n",
       "                0.09883936],\n",
       "               [0.09025272, 0.09946226, 0.10891295, 0.09946268,\n",
       "                0.09025358],\n",
       "               [0.08189197, 0.0902528 , 0.09883792, 0.09025332,\n",
       "                0.08189318]]]], dtype=float32)"
      ]
     },
     "execution_count": 25,
     "metadata": {},
     "output_type": "execute_result"
    },
    {
     "data": {
      "image/png": "[encoded data removed]",
      "text/plain": [
       "<Figure size 432x288 with 1 Axes>"
      ]
     },
     "metadata": {
      "needs_background": "light"
     },
     "output_type": "display_data"
    }
   ],
   "source": [
    "def dungeon_loss(params, batch):\n",
    "    x, y = batch\n",
    "    print(params.shape, x.shape, y.shape)\n",
    "    out = dungeon(params, x)\n",
    "    # map 0.0, 1.0 to -1.0, 1.0, convolve with kernel\n",
    "    e = np.sum(out)\n",
    "    v = np.prod(np.array(out.shape))\n",
    "    d = 2. * e / (v * (v - 1.))\n",
    "    return np.sum((d - y) ** 2.)\n",
    "\n",
    "def dungeon_opt_1():\n",
    "    init_rng = random.PRNGKey(0)\n",
    "    step_size = 0.01\n",
    "    momentum_mass = 0.9\n",
    "    num_epochs = 32\n",
    "    batch_size = 32\n",
    "    train_X = np.squeeze(np.array([onp.random.rand(1, 2, dungeon_rows, dungeon_cols) for _ in range(num_epochs * batch_size)]), 1)\n",
    "    train_y = np.array([.45 for _ in range(train_X.shape[0])])\n",
    "    num_train = train_X.shape[0]\n",
    "    num_complete_batches, leftover = divmod(train_X.shape[0], batch_size)\n",
    "    num_batches = num_complete_batches + bool(leftover)\n",
    "    print(\"Input shape:\", train_X.shape)\n",
    "    print(\"Output shape\", train_y.shape)\n",
    "    print(\"Num Epochs:\", num_epochs)\n",
    "    print(\"Num Batches:\", num_batches)\n",
    "\n",
    "    def data_stream():\n",
    "        rng = onp.random.RandomState(0)\n",
    "        while True:\n",
    "            perm = rng.permutation(num_train)\n",
    "            for i in range(num_batches):\n",
    "                batch_idx = perm[i * batch_size:(i + 1) * batch_size]\n",
    "                yield train_X[batch_idx], train_y[batch_idx]\n",
    "    batches = data_stream()\n",
    "  \n",
    "\n",
    "\n",
    "    opt_init, opt_update, get_params = optimizers.momentum(step_size, mass=momentum_mass)\n",
    "\n",
    "    @jit\n",
    "    def update(rng, i, opt_state, batch):\n",
    "        params = get_params(opt_state)\n",
    "        return opt_update(i, grad(dungeon_loss)(params, batch), opt_state)\n",
    "\n",
    "    init_params = np.zeros((2, 2, 5, 5))\n",
    "    opt_state = opt_init(init_params)\n",
    "    itercount = itertools.count()\n",
    "\n",
    "    \n",
    "    print(\"\\nStarting training...\")\n",
    "    losses = []\n",
    "    test_accs = []\n",
    "    params = get_params(opt_state)\n",
    "    #train_acc = accuracy(params, (train_images, train_cc), rng=init_rng)\n",
    "    #losses.append(train_acc)\n",
    "    #test_acc = test_accuracy(params)\n",
    "    #test_accs.append(test_acc)\n",
    "    print(\"Epoch init \")\n",
    "    #print(\"Training set accuracy {}\".format(train_acc))\n",
    "    #print(\"Test set accuracy {}\".format(test_acc))\n",
    "\n",
    "    for epoch in range(num_epochs):\n",
    "        rng = random.PRNGKey(epoch)\n",
    "        start_time = time.time()\n",
    "        epoch_batch = None\n",
    "        for _ in range(num_batches):\n",
    "            batch = next(batches)\n",
    "            epoch_batch = batch\n",
    "            opt_state = update(rng, next(itercount), opt_state, batch)\n",
    "        params = get_params(opt_state)\n",
    "        losses.append(dungeon_loss(params, epoch_batch))\n",
    "        test_accs.append(dungeon_loss(params, next(batches)))\n",
    "        epoch_time = time.time() - start_time\n",
    "        print(\"Epoch {} in {:0.2f} sec\".format(epoch, epoch_time))\n",
    "        print(\"Training set accuracy {}\".format(losses[-1]))\n",
    "        print(\"Test set accuracy {}\".format(test_accs[-1]))\n",
    "    plt.plot(losses)\n",
    "    plt.plot(test_accs)\n",
    "    return params\n",
    "\n",
    "dungeon_params_1 = dungeon_opt_1()\n",
    "dungeon_params_1"
   ]
  },
  {
   "cell_type": "code",
   "execution_count": 74,
   "metadata": {},
   "outputs": [
    {
     "name": "stdout",
     "output_type": "stream",
     "text": [
      "[[1. 1. 1. ... 1. 1. 1.]\n",
      " [1. 1. 1. ... 1. 1. 1.]\n",
      " [1. 1. 1. ... 1. 1. 1.]\n",
      " ...\n",
      " [1. 1. 1. ... 0. 0. 0.]\n",
      " [1. 1. 1. ... 0. 0. 0.]\n",
      " [1. 1. 1. ... 0. 0. 0.]]\n"
     ]
    },
    {
     "data": {
      "image/png": "[encoded data removed]",
      "text/plain": [
       "<Figure size 432x288 with 1 Axes>"
      ]
     },
     "metadata": {
      "needs_background": "light"
     },
     "output_type": "display_data"
    }
   ],
   "source": [
    "d = onp.random.binomial(1, dungeon(dungeon_params_1, onp.random.rand(1, 2, dungeon_rows, dungeon_cols)))\n",
    "print(draw_dense_dungeon(d))\n",
    "plot_dense_dungeon(d)"
   ]
  },
  {
   "cell_type": "code",
   "execution_count": 75,
   "metadata": {},
   "outputs": [
    {
     "name": "stdout",
     "output_type": "stream",
     "text": [
      "[[0 0 0 ... 0 0 0]\n",
      " [0 0 0 ... 0 0 0]\n",
      " [0 0 0 ... 0 0 0]\n",
      " ...\n",
      " [0 0 0 ... 4 4 4]\n",
      " [0 0 0 ... 4 4 4]\n",
      " [0 0 0 ... 4 4 4]]\n",
      "5\n"
     ]
    },
    {
     "data": {
      "image/png": "[encoded data removed]",
      "text/plain": [
       "<Figure size 432x288 with 1 Axes>"
      ]
     },
     "metadata": {
      "needs_background": "light"
     },
     "output_type": "display_data"
    }
   ],
   "source": [
    "t = connected_components(draw_dense_dungeon(d) * -1. + 1.)\n",
    "sess = tf.Session();\n",
    "with sess.as_default():\n",
    "    print(t.eval())\n",
    "    print(len(onp.unique(t.eval())))\n",
    "    plt.imshow(t.eval())"
   ]
  },
  {
   "cell_type": "code",
   "execution_count": 35,
   "metadata": {},
   "outputs": [
    {
     "name": "stderr",
     "output_type": "stream",
     "text": [
      "  0%|          | 0/7680 [00:00<?, ?it/s]"
     ]
    },
    {
     "name": "stdout",
     "output_type": "stream",
     "text": [
      "generating inputs\n"
     ]
    },
    {
     "name": "stderr",
     "output_type": "stream",
     "text": [
      "100%|██████████| 7680/7680 [00:13<00:00, 566.37it/s]\n",
      "  0%|          | 0/7680 [00:00<?, ?it/s]"
     ]
    },
    {
     "name": "stdout",
     "output_type": "stream",
     "text": [
      "generated responses\n"
     ]
    },
    {
     "name": "stderr",
     "output_type": "stream",
     "text": [
      "100%|██████████| 7680/7680 [1:43:31<00:00,  3.36s/it]  \n"
     ]
    },
    {
     "name": "stdout",
     "output_type": "stream",
     "text": [
      "(7680, 2, 12, 12) float32\n",
      "(7680,) float32\n"
     ]
    }
   ],
   "source": [
    "from tqdm import tqdm  \n",
    "from os import path\n",
    "\n",
    "num_epochs = 60\n",
    "batch_size = 128\n",
    "\n",
    "def gen(i):\n",
    "    return onp.random.binomial(1, dungeon(kernel, onp.random.rand(1, 2, dungeon_rows, dungeon_cols)))\n",
    "def gen_target(ti):\n",
    "    sess = tf.Session()\n",
    "    return len(onp.unique(connected_components(draw_dense_dungeon(ti) * -1. + 1.).eval(session=sess)))\n",
    "\n",
    "if path.exists('cc_train.npy') and path.exists('cc_y.npy'):\n",
    "    train_images = np.load('cc_train.npy')\n",
    "    train_cc = np.load('cc_y.np')\n",
    "else:\n",
    "    print('generating inputs')\n",
    "    train_images = Parallel(n_jobs=num_cores)(delayed(gen)(i) for i in tqdm(range(num_epochs * batch_size)))\n",
    "    print('generated responses')\n",
    "    train_cc = Parallel(n_jobs=num_cores)(delayed(gen_target)(ti) for ti in tqdm(train_images))\n",
    "\n",
    "    train_images = np.squeeze(np.stack(train_images), 1).astype(np.float32)\n",
    "    train_cc = np.squeeze(np.stack(train_cc), 1).astype(np.float32)\n",
    "    np.save('cc_train.npy', train_images)\n",
    "    np.save('cc_y.npy', train_cc)\n",
    "\n",
    "print(train_images.shape, train_images.dtype)\n",
    "print(train_cc.shape, train_cc.dtype)"
   ]
  },
  {
   "cell_type": "code",
   "execution_count": 38,
   "metadata": {},
   "outputs": [
    {
     "data": {
      "text/plain": [
       "(array([2660., 1948., 1471.,  882.,  393.,  206.,   86.,   26.,    5.,\n",
       "           3.]),\n",
       " array([ 2. ,  3.1,  4.2,  5.3,  6.4,  7.5,  8.6,  9.7, 10.8, 11.9, 13. ],\n",
       "       dtype=float32),\n",
       " <a list of 10 Patch objects>)"
      ]
     },
     "execution_count": 38,
     "metadata": {},
     "output_type": "execute_result"
    },
    {
     "data": {
      "image/png": "[encoded data removed]",
      "text/plain": [
       "<Figure size 432x288 with 1 Axes>"
      ]
     },
     "metadata": {
      "needs_background": "light"
     },
     "output_type": "display_data"
    }
   ],
   "source": [
    "plt.hist(train_cc)"
   ]
  },
  {
   "cell_type": "code",
   "execution_count": 39,
   "metadata": {},
   "outputs": [
    {
     "name": "stdout",
     "output_type": "stream",
     "text": [
      "\n",
      "Starting training...\n",
      "Epoch init \n",
      "Training set accuracy 42.33572769165039\n",
      "Test set accuracy 55.41054916381836\n",
      "Epoch 0 in 101.25 sec\n",
      "Training set accuracy 2.752761125564575\n",
      "Test set accuracy 2.7815303802490234\n",
      "Epoch 1 in 14.61 sec\n",
      "Training set accuracy 2.655717611312866\n",
      "Test set accuracy 2.8646185398101807\n",
      "Epoch 2 in 8.81 sec\n",
      "Training set accuracy 2.638641119003296\n",
      "Test set accuracy 2.758981227874756\n",
      "Epoch 3 in 10.16 sec\n",
      "Training set accuracy 2.6261518001556396\n",
      "Test set accuracy 2.915783643722534\n",
      "Epoch 4 in 8.49 sec\n",
      "Training set accuracy 2.6168103218078613\n",
      "Test set accuracy 4.9119439125061035\n",
      "Epoch 5 in 7.17 sec\n",
      "Training set accuracy 2.6097207069396973\n",
      "Test set accuracy 3.2304508686065674\n",
      "Epoch 6 in 7.25 sec\n",
      "Training set accuracy 2.6035754680633545\n",
      "Test set accuracy 5.24857759475708\n",
      "Epoch 7 in 8.59 sec\n",
      "Training set accuracy 2.59816575050354\n",
      "Test set accuracy 1.369015097618103\n",
      "Epoch 8 in 13.13 sec\n",
      "Training set accuracy 2.593513250350952\n",
      "Test set accuracy 1.7831485271453857\n",
      "Epoch 9 in 18.07 sec\n",
      "Training set accuracy 2.5899577140808105\n",
      "Test set accuracy 2.105020761489868\n",
      "Epoch 10 in 23.45 sec\n",
      "Training set accuracy 2.5866761207580566\n",
      "Test set accuracy 3.9344518184661865\n",
      "Epoch 11 in 27.17 sec\n",
      "Training set accuracy 2.5839669704437256\n",
      "Test set accuracy 2.6719295978546143\n",
      "Epoch 12 in 24.60 sec\n",
      "Training set accuracy 2.581298589706421\n",
      "Test set accuracy 3.199831008911133\n",
      "Epoch 13 in 11.72 sec\n",
      "Training set accuracy 2.5792105197906494\n",
      "Test set accuracy 3.433368682861328\n",
      "Epoch 14 in 7.59 sec\n",
      "Training set accuracy 2.577528476715088\n",
      "Test set accuracy 1.8606784343719482\n",
      "Epoch 15 in 6.67 sec\n",
      "Training set accuracy 2.575932264328003\n",
      "Test set accuracy 3.8178863525390625\n",
      "Epoch 16 in 13.44 sec\n",
      "Training set accuracy 2.5747182369232178\n",
      "Test set accuracy 1.2134875059127808\n",
      "Epoch 17 in 8.91 sec\n",
      "Training set accuracy 2.5763373374938965\n",
      "Test set accuracy 2.936495304107666\n",
      "Epoch 18 in 7.52 sec\n",
      "Training set accuracy 2.572500228881836\n",
      "Test set accuracy 1.8201135396957397\n",
      "Epoch 19 in 7.95 sec\n",
      "Training set accuracy 2.5712883472442627\n",
      "Test set accuracy 3.856128454208374\n",
      "Epoch 20 in 11.83 sec\n",
      "Training set accuracy 2.570342540740967\n",
      "Test set accuracy 2.327554225921631\n",
      "Epoch 21 in 8.27 sec\n",
      "Training set accuracy 2.5693376064300537\n",
      "Test set accuracy 4.619719982147217\n",
      "Epoch 22 in 6.16 sec\n",
      "Training set accuracy 2.568100929260254\n",
      "Test set accuracy 1.9915673732757568\n",
      "Epoch 23 in 6.29 sec\n",
      "Training set accuracy 2.5674691200256348\n",
      "Test set accuracy 1.594681739807129\n",
      "Epoch 24 in 7.38 sec\n",
      "Training set accuracy 2.566871404647827\n",
      "Test set accuracy 4.03427267074585\n",
      "Epoch 25 in 11.54 sec\n",
      "Training set accuracy 2.567065477371216\n",
      "Test set accuracy 3.8311984539031982\n",
      "Epoch 26 in 8.32 sec\n",
      "Training set accuracy 2.5661299228668213\n",
      "Test set accuracy 1.9509263038635254\n",
      "Epoch 27 in 9.12 sec\n",
      "Training set accuracy 2.565248727798462\n",
      "Test set accuracy 1.8692131042480469\n",
      "Epoch 28 in 9.72 sec\n",
      "Training set accuracy 2.5646169185638428\n",
      "Test set accuracy 5.021578311920166\n",
      "Epoch 29 in 7.65 sec\n",
      "Training set accuracy 2.5642664432525635\n",
      "Test set accuracy 2.899101495742798\n",
      "Epoch 30 in 6.30 sec\n",
      "Training set accuracy 2.564291477203369\n",
      "Test set accuracy 1.1941380500793457\n",
      "Epoch 31 in 6.54 sec\n",
      "Training set accuracy 2.563561201095581\n",
      "Test set accuracy 3.625609874725342\n",
      "Epoch 32 in 6.70 sec\n",
      "Training set accuracy 2.562997341156006\n",
      "Test set accuracy 2.9891433715820312\n",
      "Epoch 33 in 6.98 sec\n",
      "Training set accuracy 2.562544822692871\n",
      "Test set accuracy 3.848264455795288\n",
      "Epoch 34 in 6.32 sec\n",
      "Training set accuracy 2.5622458457946777\n",
      "Test set accuracy 3.173985242843628\n",
      "Epoch 35 in 12.46 sec\n",
      "Training set accuracy 2.5620498657226562\n",
      "Test set accuracy 3.0444531440734863\n",
      "Epoch 36 in 12.77 sec\n",
      "Training set accuracy 2.561699151992798\n",
      "Test set accuracy 3.6083717346191406\n",
      "Epoch 37 in 10.05 sec\n",
      "Training set accuracy 2.5620458126068115\n",
      "Test set accuracy 2.30141544342041\n",
      "Epoch 38 in 12.03 sec\n",
      "Training set accuracy 2.5609374046325684\n",
      "Test set accuracy 7.47191858291626\n",
      "Epoch 39 in 7.90 sec\n",
      "Training set accuracy 2.5618667602539062\n",
      "Test set accuracy 1.6953976154327393\n",
      "Epoch 40 in 7.74 sec\n",
      "Training set accuracy 2.5611603260040283\n",
      "Test set accuracy 1.451058030128479\n",
      "Epoch 41 in 6.57 sec\n",
      "Training set accuracy 2.560253858566284\n",
      "Test set accuracy 0.7739829421043396\n",
      "Epoch 42 in 6.36 sec\n",
      "Training set accuracy 2.560389280319214\n",
      "Test set accuracy 2.3463852405548096\n",
      "Epoch 43 in 6.52 sec\n",
      "Training set accuracy 2.5599682331085205\n",
      "Test set accuracy 1.5469539165496826\n",
      "Epoch 44 in 6.22 sec\n",
      "Training set accuracy 2.559875011444092\n",
      "Test set accuracy 3.1964969635009766\n",
      "Epoch 45 in 6.43 sec\n",
      "Training set accuracy 2.5607101917266846\n",
      "Test set accuracy 1.3055765628814697\n",
      "Epoch 46 in 9.34 sec\n",
      "Training set accuracy 2.5594260692596436\n",
      "Test set accuracy 2.9634921550750732\n",
      "Epoch 47 in 6.73 sec\n",
      "Training set accuracy 2.560427188873291\n",
      "Test set accuracy 1.5105023384094238\n",
      "Epoch 48 in 10.87 sec\n",
      "Training set accuracy 2.5589663982391357\n",
      "Test set accuracy 2.6301321983337402\n",
      "Epoch 49 in 7.67 sec\n",
      "Training set accuracy 2.55899715423584\n",
      "Test set accuracy 1.5372028350830078\n",
      "Epoch 50 in 10.81 sec\n",
      "Training set accuracy 2.558960437774658\n",
      "Test set accuracy 5.10952615737915\n",
      "Epoch 51 in 10.53 sec\n",
      "Training set accuracy 2.5586724281311035\n",
      "Test set accuracy 2.1793153285980225\n",
      "Epoch 52 in 9.51 sec\n",
      "Training set accuracy 2.5588340759277344\n",
      "Test set accuracy 2.2200422286987305\n",
      "Epoch 53 in 7.12 sec\n",
      "Training set accuracy 2.5593199729919434\n",
      "Test set accuracy 2.940863609313965\n",
      "Epoch 54 in 9.66 sec\n",
      "Training set accuracy 2.5582644939422607\n",
      "Test set accuracy 3.493619918823242\n",
      "Epoch 55 in 9.33 sec\n",
      "Training set accuracy 2.5583608150482178\n",
      "Test set accuracy 3.3190865516662598\n",
      "Epoch 56 in 6.42 sec\n",
      "Training set accuracy 2.558173179626465\n",
      "Test set accuracy 3.669853687286377\n",
      "Epoch 57 in 6.10 sec\n",
      "Training set accuracy 2.5585031509399414\n",
      "Test set accuracy 2.573302984237671\n",
      "Epoch 58 in 7.18 sec\n",
      "Training set accuracy 2.557974338531494\n",
      "Test set accuracy 2.296476364135742\n",
      "Epoch 59 in 7.94 sec\n",
      "Training set accuracy 2.557913064956665\n",
      "Test set accuracy 1.6250547170639038\n"
     ]
    },
    {
     "data": {
      "text/plain": [
       "[(DeviceArray([[[[-0.29008982],\n",
       "                 [-1.292377  ]]]], dtype=float32),\n",
       "  DeviceArray(0.00070095, dtype=float32)),\n",
       " (),\n",
       " ([(), (), (), (), ([(), (), ()], [(), (), ()]), ()],\n",
       "  [(), (), (), (), ([(), (), ()], [(), (), ()]), ()]),\n",
       " (),\n",
       " (DeviceArray([[[[-0.5217396 , -0.28682232]],\n",
       "  \n",
       "                [[ 0.59042603, -0.11222271]],\n",
       "  \n",
       "                [[-0.00457108,  0.13414569]]],\n",
       "  \n",
       "  \n",
       "               [[[-0.20868473, -0.18844296]],\n",
       "  \n",
       "                [[-0.26847968, -0.2108032 ]],\n",
       "  \n",
       "                [[-0.07484221,  0.39560109]]],\n",
       "  \n",
       "  \n",
       "               [[[-0.21489242,  0.29113781]],\n",
       "  \n",
       "                [[-0.52264774, -0.02135346]],\n",
       "  \n",
       "                [[ 0.60744876,  0.48737505]]]], dtype=float32),\n",
       "  DeviceArray([ 0.00151416, -0.02487639], dtype=float32)),\n",
       " (),\n",
       " (DeviceArray([[[[ 0.18965444],\n",
       "                 [-2.87545681]]]], dtype=float32),\n",
       "  DeviceArray(0.03477378, dtype=float32)),\n",
       " (DeviceArray([[-0.17862847, -0.08507352,  0.70559317, -0.13392101,\n",
       "                 0.41176376, -0.19794963,  0.41870409,  0.54535335,\n",
       "                -0.49210712,  0.29237252,  0.44019988,  0.98547679,\n",
       "                -0.23225515,  0.1744117 ,  0.43996072, -0.55252421]],\n",
       "              dtype=float32),\n",
       "  DeviceArray([ 0.01173541, -0.00980047,  0.00737243, -0.01468803,\n",
       "               -0.01628759, -0.03725882, -0.0003153 , -0.00789776,\n",
       "                0.00185827,  0.02448509, -0.02130228, -0.00597571,\n",
       "                0.00268768,  0.01930095,  0.0063524 , -0.00262912],\n",
       "              dtype=float32)),\n",
       " (),\n",
       " (),\n",
       " (DeviceArray([[ 2.00187281e-01,  9.53915492e-02, -1.33732006e-01,\n",
       "                -1.29897535e-01,  1.58704624e-01, -5.48060954e-01,\n",
       "                -3.31300586e-01,  1.36207296e-02,  4.95045364e-01,\n",
       "                 1.26368999e-01, -4.13523525e-01, -4.76184040e-01,\n",
       "                -2.49681711e-01, -3.67489159e-02, -5.42267084e-01,\n",
       "                 7.84316435e-02],\n",
       "               [ 6.47462010e-02,  2.51369536e-01,  5.32096505e-01,\n",
       "                 3.65244359e-01,  9.73817799e-03,  9.29105222e-01,\n",
       "                -2.54706562e-01, -4.60370362e-01,  3.11756194e-01,\n",
       "                -4.20384854e-01,  1.37087658e-01,  3.59932512e-01,\n",
       "                 1.51606828e-01,  2.59361733e-02, -1.29558131e-01,\n",
       "                 6.20190680e-01],\n",
       "               [-6.47414774e-02, -4.02125627e-01,  5.65303326e-01,\n",
       "                -1.90899923e-01, -2.88250893e-01,  4.05067392e-02,\n",
       "                 5.98166823e-01, -4.83148754e-01,  3.66171807e-01,\n",
       "                 7.46771038e-01,  5.39499372e-02,  8.19093287e-02,\n",
       "                 4.80211638e-02, -7.89101869e-02,  5.44216573e-01,\n",
       "                 8.41923710e-03],\n",
       "               [-7.08299875e-02,  4.84863549e-01, -1.86262533e-01,\n",
       "                 2.18670800e-01,  1.94604784e-01,  2.62016356e-01,\n",
       "                 1.35702848e-01, -1.65010139e-01,  7.25521147e-02,\n",
       "                -1.71571001e-01,  2.70408988e-02, -2.68194526e-01,\n",
       "                 3.87506783e-01, -8.60916600e-02,  7.63918400e-01,\n",
       "                 7.91392982e-01],\n",
       "               [ 8.19439411e-01, -4.16077971e-01, -3.43513787e-01,\n",
       "                -1.64908454e-01,  7.88586400e-03,  6.91811085e-01,\n",
       "                 3.86737198e-01,  4.43851411e-01, -3.07928056e-01,\n",
       "                -9.64986533e-02,  3.15100610e-01,  4.03460860e-01,\n",
       "                 1.74196318e-01, -2.57655270e-02,  3.66093814e-01,\n",
       "                 2.33875632e-01],\n",
       "               [ 5.31224310e-02, -3.08747828e-01, -2.59157658e-01,\n",
       "                 2.15645075e-01, -2.23572344e-01, -1.06222713e+00,\n",
       "                 7.69174159e-01,  3.10602963e-01,  1.95403229e-02,\n",
       "                -5.65493822e-01, -1.57903209e-01, -1.79879799e-01,\n",
       "                -2.01826945e-01,  2.95514405e-01, -3.35040867e-01,\n",
       "                -1.41220912e-01],\n",
       "               [-2.02837914e-01,  1.46601573e-01,  6.34155154e-01,\n",
       "                -1.33986756e-01,  2.38082483e-01,  2.33672231e-01,\n",
       "                -1.39359236e-01,  2.31954977e-01,  2.05304280e-01,\n",
       "                 3.11788440e-01, -5.84020540e-02, -4.07312781e-01,\n",
       "                -2.08922237e-01, -1.96515679e-01, -1.67729095e-01,\n",
       "                 3.49904746e-02],\n",
       "               [ 1.30190566e-01, -3.90602857e-01,  2.10087493e-01,\n",
       "                 7.23090827e-01, -3.48412007e-01, -3.73280674e-01,\n",
       "                 6.56735361e-01,  2.58953989e-01,  2.93503940e-01,\n",
       "                 3.52027327e-01,  1.83672518e-01, -2.03948066e-01,\n",
       "                -2.69953102e-01,  1.69956312e-01, -5.28336227e-01,\n",
       "                -2.42194273e-02],\n",
       "               [ 1.89531073e-02, -5.67549407e-01,  1.91890344e-01,\n",
       "                -4.59636241e-01,  1.91052467e-01, -4.23630297e-01,\n",
       "                 4.02225316e-01, -7.68473446e-01,  4.27679449e-01,\n",
       "                 3.10094506e-01, -4.06883657e-01, -2.01281048e-02,\n",
       "                -2.45891690e-01,  2.42672980e-01,  2.41726577e-01,\n",
       "                 2.39556491e-01],\n",
       "               [-2.32059076e-01, -1.25632584e-01, -5.62175274e-01,\n",
       "                -2.53736585e-01, -1.81570947e-01,  2.95530349e-01,\n",
       "                -9.60480273e-02, -1.25281706e-01,  6.55898094e-01,\n",
       "                 4.35101211e-01,  4.06805903e-01,  2.67400742e-01,\n",
       "                 3.94698083e-01,  2.65096188e-01,  2.11113662e-01,\n",
       "                 1.07651517e-01],\n",
       "               [-7.62366727e-02,  2.57473022e-01, -2.45448668e-03,\n",
       "                -2.46236086e-01,  4.33098227e-01, -8.37512966e-03,\n",
       "                -1.95398092e-01,  1.62896991e-01,  3.07646215e-01,\n",
       "                 3.89434844e-02,  2.28909552e-01, -2.90114611e-01,\n",
       "                 1.81048527e-01, -7.33523443e-02,  6.88661754e-01,\n",
       "                -3.17372262e-01],\n",
       "               [-6.51608780e-02, -8.10483575e-01, -5.27948439e-01,\n",
       "                 1.51550293e-01,  2.86273420e-01,  1.67073354e-01,\n",
       "                -5.15650332e-01,  3.41394871e-01, -2.58199990e-01,\n",
       "                -2.25616187e-01,  3.20465505e-01, -1.87065616e-01,\n",
       "                -1.33830339e-01, -2.17462942e-01,  4.06447113e-01,\n",
       "                 4.78456080e-01],\n",
       "               [ 1.26193941e-01, -4.45080817e-01,  1.78825974e-01,\n",
       "                 7.59334028e-01,  3.22423838e-02,  2.88593948e-01,\n",
       "                -5.42219989e-02,  2.73494929e-01,  4.69899952e-01,\n",
       "                 5.01217186e-01, -5.22211075e-01, -6.82453573e-01,\n",
       "                -4.97210115e-01, -1.90593842e-02,  2.54763722e-01,\n",
       "                -3.07707697e-01],\n",
       "               [ 8.05213302e-02,  2.46047258e-01,  4.65677702e-04,\n",
       "                 1.25059962e-01, -4.38630491e-01,  1.16048753e-01,\n",
       "                -2.82982886e-01,  3.30530733e-01,  4.76793736e-01,\n",
       "                 5.30853570e-01, -3.06081504e-01, -2.32705116e-01,\n",
       "                 9.96104330e-02, -3.64988148e-01, -6.81024849e-01,\n",
       "                -1.03129208e-01],\n",
       "               [-2.32558608e-01,  5.92655987e-02, -7.46841729e-01,\n",
       "                 1.19043112e-01, -4.65858400e-01,  1.44330859e-01,\n",
       "                 2.26826683e-01,  2.04186887e-01, -3.62959743e-01,\n",
       "                 2.45583937e-01, -3.72020364e-01, -5.19358456e-01,\n",
       "                -2.55344599e-01,  1.15298405e-01, -2.08831474e-01,\n",
       "                 4.27875668e-02],\n",
       "               [ 4.30197626e-01, -1.67309400e-02,  6.20061159e-01,\n",
       "                 8.56186226e-02, -6.88036919e-01,  2.53998548e-01,\n",
       "                 2.65007079e-01, -6.74425244e-01, -9.82622430e-02,\n",
       "                 6.63803890e-02, -3.13135594e-01, -5.54549992e-02,\n",
       "                -1.95107684e-01,  5.08540094e-01,  4.61444527e-01,\n",
       "                -2.22240642e-01]], dtype=float32),\n",
       "  DeviceArray([-0.04716005, -0.11135323, -0.02785047, -0.02719151,\n",
       "               -0.03088815,  0.04634072, -0.07304955, -0.03029804,\n",
       "                0.01899188,  0.03258635, -0.03117463, -0.04127036,\n",
       "                0.06697989, -0.00820567, -0.07402052,  0.03431156],\n",
       "              dtype=float32)),\n",
       " (),\n",
       " (),\n",
       " (DeviceArray([[ 1.9774620e-01, -1.7451082e-01, -2.2575068e-01,\n",
       "                -1.2489841e-01, -8.9968726e-02,  2.9355513e-02,\n",
       "                 7.4418563e-01, -2.3298791e-01],\n",
       "               [ 1.6215694e-01, -2.5007948e-01,  2.6224956e-01,\n",
       "                -1.0601628e-01, -6.3272263e-04,  4.4956535e-01,\n",
       "                 7.7243876e-01,  3.5836568e-01],\n",
       "               [-5.1284593e-01, -3.2616144e-01,  1.8784456e-01,\n",
       "                 4.3146482e-01,  4.4667223e-01, -1.3609630e-01,\n",
       "                -8.3454521e-03, -2.0753792e-01],\n",
       "               [-7.2917652e-01,  2.1712980e-01, -6.1099988e-01,\n",
       "                 1.3152356e-01, -4.5723110e-01,  6.3427389e-01,\n",
       "                 4.6081689e-01,  7.4365422e-02],\n",
       "               [-2.4334157e-01, -4.4945297e-01, -2.7425975e-01,\n",
       "                 4.4260409e-01, -3.3444825e-01,  2.3061574e-01,\n",
       "                -3.5429269e-02,  1.4076307e-01],\n",
       "               [ 5.5181429e-02, -5.4800171e-02, -2.1397611e-01,\n",
       "                 4.8242819e-01, -5.0766772e-01, -9.0008366e-01,\n",
       "                -7.7808440e-02,  6.2924430e-02],\n",
       "               [ 1.0293382e-01, -2.4157789e-01,  2.7400199e-01,\n",
       "                -8.4803067e-02,  1.2285308e+00, -8.3419561e-02,\n",
       "                -4.0488151e-01, -8.8237092e-02],\n",
       "               [ 1.7063379e-01, -5.1921785e-01,  2.5774065e-01,\n",
       "                -1.5699083e-02,  1.0169412e-01, -2.5854496e-02,\n",
       "                 5.4460514e-01,  7.3998496e-02],\n",
       "               [-4.7529581e-01, -1.4652237e-01,  3.4060428e-01,\n",
       "                 3.3407861e-01, -4.4901508e-01, -3.7307054e-01,\n",
       "                 1.9371766e-01, -3.4746057e-01],\n",
       "               [ 1.5567437e-01,  9.6423291e-03, -5.6761587e-01,\n",
       "                 5.5837274e-01, -8.8768765e-02, -7.0637822e-01,\n",
       "                -8.4211133e-02, -4.6328056e-01],\n",
       "               [-9.4963714e-02, -1.5174840e-01, -2.2091441e-01,\n",
       "                -5.9827447e-01, -4.5953014e-01, -1.1586313e-01,\n",
       "                 7.5278604e-01,  4.1785461e-01],\n",
       "               [-8.6535595e-02,  5.8169320e-02, -5.0210482e-01,\n",
       "                -5.9087342e-01,  8.7691951e-01, -7.8695662e-02,\n",
       "                -4.5970105e-02,  3.5769291e-02],\n",
       "               [-4.0942785e-01,  1.6439831e-01,  5.4135952e-02,\n",
       "                -1.8764727e-01,  1.2892120e-01, -5.4321218e-01,\n",
       "                 4.4059974e-01, -2.8149047e-01],\n",
       "               [-1.0198617e-01,  1.7145351e-01, -1.7504288e-01,\n",
       "                -3.1273353e-01, -5.6814607e-02, -2.2735834e-01,\n",
       "                 4.7692934e-01,  1.7472750e-02],\n",
       "               [-2.4693917e-01, -4.0175620e-02, -1.3393180e-01,\n",
       "                 2.5878179e-01, -5.1017034e-01, -4.5115510e-01,\n",
       "                 3.7666049e-02, -1.9777684e-01],\n",
       "               [-8.5903727e-02, -5.1590562e-02, -6.4402115e-01,\n",
       "                 2.9975271e-01, -3.4018893e-02, -2.6710162e-01,\n",
       "                 6.3887995e-01, -6.3947922e-01]], dtype=float32),\n",
       "  DeviceArray([-0.26818243, -0.01986313, -0.12982301,  0.35969418,\n",
       "                0.03936778, -0.52341771,  0.34051695, -0.04285732],\n",
       "              dtype=float32)),\n",
       " (),\n",
       " (DeviceArray([[ 0.11697531],\n",
       "               [ 0.53750396],\n",
       "               [ 0.26428822],\n",
       "               [ 0.75757545],\n",
       "               [ 0.3018164 ],\n",
       "               [-0.16118759],\n",
       "               [ 1.01289928],\n",
       "               [ 0.49885336]], dtype=float32),\n",
       "  DeviceArray([2.32209039], dtype=float32))]"
      ]
     },
     "execution_count": 39,
     "metadata": {},
     "output_type": "execute_result"
    },
    {
     "data": {
      "image/png": "[encoded data removed]",
      "text/plain": [
       "<Figure size 432x288 with 1 Axes>"
      ]
     },
     "metadata": {
      "needs_background": "light"
     },
     "output_type": "display_data"
    }
   ],
   "source": [
    "from jax.experimental.stax import (AvgPool, BatchNorm, Conv, Dense, Dropout, FanInConcat,\n",
    "                                   FanInSum,\n",
    "                                   FanOut, Flatten, GeneralConv, Identity,\n",
    "                                   MaxPool, Relu, SumPool, LogSoftmax)\n",
    "\n",
    "def sigmoid(x): return expit(x)\n",
    "def elu(x): return np.where(x > 0, x, np.expm1(x))\n",
    "def leaky_relu(x): return np.where(x >= 0, x, 0.01 * x)\n",
    "Sigmoid = stax.elementwise(sigmoid)\n",
    "Elu = stax.elementwise(elu)\n",
    "LeakyRelu = stax.elementwise(leaky_relu)\n",
    "MinPool = stax._pooling_layer(jax.lax.max, -np.inf)\n",
    "\n",
    "init_random_params, predict = stax.serial(\n",
    "    GeneralConv(('NCHW', 'HWIO', 'NHWC'), 1, (1, 1), (1, 1), \"SAME\"),\n",
    "    FanOut(2),\n",
    "    stax.parallel(\n",
    "        stax.serial(\n",
    "            MinPool((3, 3), strides=(3, 3)),\n",
    "            Dropout(0.5),\n",
    "            Sigmoid,\n",
    "            FanOut(2),\n",
    "            stax.parallel(\n",
    "                stax.serial(\n",
    "                    MinPool((3, 3), strides=(3, 3)),\n",
    "                    Dropout(0.5),\n",
    "                    Sigmoid),\n",
    "                stax.serial(\n",
    "                    MaxPool((3, 3), strides=(3, 3)),\n",
    "                    Dropout(0.5),\n",
    "                    Sigmoid)),\n",
    "            FanInConcat(1)),\n",
    "        stax.serial(\n",
    "            MaxPool((3, 3), strides=(3, 3)),\n",
    "            Dropout(0.5),\n",
    "            Sigmoid,\n",
    "            FanOut(2),\n",
    "            stax.parallel(\n",
    "                stax.serial(\n",
    "                    MinPool((3, 3), strides=(3, 3)),\n",
    "                    Dropout(0.5),\n",
    "                    Sigmoid),\n",
    "                stax.serial(\n",
    "                    MaxPool((3, 3), strides=(3, 3)),\n",
    "                    Dropout(0.5),\n",
    "                    Sigmoid)),\n",
    "            FanInConcat(1))),\n",
    "    FanInConcat(1),\n",
    "    GeneralConv(('NHWC', 'HWIO', 'NHWC'), 2, (3, 3), (1, 1), \"SAME\"),\n",
    "    Sigmoid,\n",
    "    GeneralConv(('NHWC', 'HWIO', 'NHWC'), 1, (1, 1), (1, 1), \"SAME\"),\n",
    "    Dense(16), Sigmoid,\n",
    "    Dropout(0.5),\n",
    "    Dense(16), Sigmoid,\n",
    "    Dropout(0.5),\n",
    "    Dense(8), Sigmoid,\n",
    "    Dense(1))\n",
    "\n",
    "def loss(params, batch, **kwargs):\n",
    "    inputs, targets = batch\n",
    "    preds = predict(params, inputs, **kwargs)\n",
    "    #print(inputs.shape, targets.shape, preds.shape)\n",
    "    return np.mean((preds - targets) ** 2)\n",
    "\n",
    "def accuracy(params, batch, **kwargs):\n",
    "    inputs, targets = batch\n",
    "    preds = predict(params, inputs, **kwargs)\n",
    "    #print(inputs.shape, targets.shape, preds.shape)\n",
    "    return np.mean((preds - targets) ** 2)\n",
    "\n",
    "def test_accuracy(params):\n",
    "    test_images = Parallel(n_jobs=num_cores)(delayed(gen)(i) for i in range(16))\n",
    "    test_cc = Parallel(n_jobs=num_cores)(delayed(gen_target)(ti) for ti in test_images)\n",
    "\n",
    "    test_images = np.squeeze(np.stack(test_images), 1).astype(np.float32)\n",
    "    test_cc = np.squeeze(np.stack(test_cc), 1).astype(np.float32)\n",
    "    test_acc = accuracy(params, (test_images, test_cc), rng=random.PRNGKey(0))\n",
    "    return test_acc\n",
    "\n",
    "def ccnet():\n",
    "    init_rng = random.PRNGKey(0)\n",
    "    step_size = 0.01\n",
    "    momentum_mass = 0.9\n",
    "    #train_images, _, test_images, _ = datasets.mnist(permute_train=True)\n",
    "    num_train = train_images.shape[0]\n",
    "    num_complete_batches, leftover = divmod(train_images.shape[0], batch_size)\n",
    "    num_batches = num_complete_batches + bool(leftover)\n",
    "    nun_epochs = 60\n",
    "\n",
    "    def data_stream():\n",
    "        rng = onp.random.RandomState(0)\n",
    "        while True:\n",
    "            perm = rng.permutation(num_train)\n",
    "            for i in range(num_batches):\n",
    "                batch_idx = perm[i * batch_size:(i + 1) * batch_size]\n",
    "                yield train_images[batch_idx], train_cc[batch_idx]\n",
    "    batches = data_stream()\n",
    "  \n",
    "\n",
    "\n",
    "    opt_init, opt_update, get_params = optimizers.momentum(step_size, mass=momentum_mass)\n",
    "\n",
    "    @jit\n",
    "    def update(rng, i, opt_state, batch):\n",
    "        params = get_params(opt_state)\n",
    "        return opt_update(i, grad(loss)(params, batch, rng=rng), opt_state)\n",
    "\n",
    "    _, init_params = init_random_params(init_rng, (-1, 2, dungeon_rows, dungeon_cols))\n",
    "    opt_state = opt_init(init_params)\n",
    "    itercount = itertools.count()\n",
    "\n",
    "    \n",
    "    print(\"\\nStarting training...\")\n",
    "    losses = []\n",
    "    test_accs = []\n",
    "    params = get_params(opt_state)\n",
    "    train_acc = accuracy(params, (train_images, train_cc), rng=init_rng)\n",
    "    losses.append(train_acc)\n",
    "    test_acc = test_accuracy(params)\n",
    "    test_accs.append(test_acc)\n",
    "    print(\"Epoch init \")\n",
    "    print(\"Training set accuracy {}\".format(train_acc))\n",
    "    print(\"Test set accuracy {}\".format(test_acc))\n",
    "\n",
    "    for epoch in range(num_epochs):\n",
    "        rng = random.PRNGKey(epoch)\n",
    "        start_time = time.time()\n",
    "        for _ in range(num_batches):\n",
    "            opt_state = update(rng, next(itercount), opt_state, next(batches))\n",
    "        params = get_params(opt_state)\n",
    "        train_acc = accuracy(params, (train_images, train_cc), rng=rng)\n",
    "        losses.append(train_acc)\n",
    "        test_acc = test_accuracy(params)\n",
    "        test_accs.append(test_acc)\n",
    "        epoch_time = time.time() - start_time\n",
    "        print(\"Epoch {} in {:0.2f} sec\".format(epoch, epoch_time))\n",
    "        print(\"Training set accuracy {}\".format(train_acc))\n",
    "        print(\"Test set accuracy {}\".format(test_acc))\n",
    "    plt.plot(losses)\n",
    "    plt.plot(test_accs)\n",
    "    return params\n",
    "\n",
    "cc_params = ccnet()\n",
    "cc_params"
   ]
  },
  {
   "cell_type": "code",
   "execution_count": 40,
   "metadata": {},
   "outputs": [
    {
     "ename": "NameError",
     "evalue": "name 'params' is not defined",
     "output_type": "error",
     "traceback": [
      "\u001b[0;31m---------------------------------------------------------------------------\u001b[0m",
      "\u001b[0;31mNameError\u001b[0m                                 Traceback (most recent call last)",
      "\u001b[0;32m<ipython-input-40-4e5925abea68>\u001b[0m in \u001b[0;36m<module>\u001b[0;34m\u001b[0m\n\u001b[1;32m      1\u001b[0m \u001b[0;32mimport\u001b[0m \u001b[0mgraphviz\u001b[0m \u001b[0;32mas\u001b[0m \u001b[0mgv\u001b[0m\u001b[0;34m\u001b[0m\u001b[0;34m\u001b[0m\u001b[0m\n\u001b[1;32m      2\u001b[0m \u001b[0;34m\u001b[0m\u001b[0m\n\u001b[0;32m----> 3\u001b[0;31m \u001b[0msrc\u001b[0m \u001b[0;34m=\u001b[0m \u001b[0mgv\u001b[0m\u001b[0;34m.\u001b[0m\u001b[0mSource\u001b[0m\u001b[0;34m(\u001b[0m\u001b[0mjax\u001b[0m\u001b[0;34m.\u001b[0m\u001b[0mapi\u001b[0m\u001b[0;34m.\u001b[0m\u001b[0m_make_graphviz\u001b[0m\u001b[0;34m(\u001b[0m\u001b[0mpredict\u001b[0m\u001b[0;34m)\u001b[0m\u001b[0;34m(\u001b[0m\u001b[0mparams\u001b[0m\u001b[0;34m,\u001b[0m \u001b[0mtrain_images\u001b[0m\u001b[0;34m,\u001b[0m \u001b[0mrng\u001b[0m\u001b[0;34m=\u001b[0m\u001b[0mrandom\u001b[0m\u001b[0;34m.\u001b[0m\u001b[0mPRNGKey\u001b[0m\u001b[0;34m(\u001b[0m\u001b[0;36m0\u001b[0m\u001b[0;34m)\u001b[0m\u001b[0;34m)\u001b[0m\u001b[0;34m)\u001b[0m\u001b[0;34m\u001b[0m\u001b[0;34m\u001b[0m\u001b[0m\n\u001b[0m\u001b[1;32m      4\u001b[0m \u001b[0;31m#print(src.source)\u001b[0m\u001b[0;34m\u001b[0m\u001b[0;34m\u001b[0m\u001b[0;34m\u001b[0m\u001b[0m\n\u001b[1;32m      5\u001b[0m \u001b[0msrc\u001b[0m\u001b[0;34m.\u001b[0m\u001b[0mview\u001b[0m\u001b[0;34m(\u001b[0m\u001b[0;34m)\u001b[0m\u001b[0;34m\u001b[0m\u001b[0;34m\u001b[0m\u001b[0m\n",
      "\u001b[0;31mNameError\u001b[0m: name 'params' is not defined"
     ]
    }
   ],
   "source": [
    "import graphviz as gv\n",
    "\n",
    "src = gv.Source(jax.api._make_graphviz(predict)(params, train_images, rng=random.PRNGKey(0)))\n",
    "#print(src.source)\n",
    "src.view()"
   ]
  },
  {
   "cell_type": "code",
   "execution_count": 41,
   "metadata": {},
   "outputs": [
    {
     "name": "stdout",
     "output_type": "stream",
     "text": [
      "Test set accuracy 1.6671602725982666\n"
     ]
    }
   ],
   "source": [
    "print(\"Test set accuracy {}\".format(test_accuracy(cc_params)))"
   ]
  },
  {
   "cell_type": "code",
   "execution_count": 79,
   "metadata": {},
   "outputs": [
    {
     "name": "stdout",
     "output_type": "stream",
     "text": [
      "Input shape: (1024, 2, 12, 12)\n",
      "Output shape (1024,)\n",
      "Num Epochs: 32\n",
      "Num Batches: 32\n",
      "\n",
      "Starting training...\n",
      "Epoch init \n",
      "Epoch 0 in 3.70 sec\n",
      "Training set accuracy 18.888938903808594\n",
      "Test set accuracy 18.888938903808594\n",
      "Epoch 1 in 0.12 sec\n",
      "Training set accuracy 18.8887939453125\n",
      "Test set accuracy 18.8887939453125\n",
      "Epoch 2 in 0.12 sec\n",
      "Training set accuracy 18.888639450073242\n",
      "Test set accuracy 18.888639450073242\n",
      "Epoch 3 in 0.13 sec\n",
      "Training set accuracy 18.88848876953125\n",
      "Test set accuracy 18.88848876953125\n",
      "Epoch 4 in 0.13 sec\n",
      "Training set accuracy 18.888334274291992\n",
      "Test set accuracy 18.888334274291992\n",
      "Epoch 5 in 0.11 sec\n",
      "Training set accuracy 18.88818359375\n",
      "Test set accuracy 18.88818359375\n",
      "Epoch 6 in 0.10 sec\n",
      "Training set accuracy 18.888031005859375\n",
      "Test set accuracy 18.888031005859375\n",
      "Epoch 7 in 0.10 sec\n",
      "Training set accuracy 18.88787841796875\n",
      "Test set accuracy 18.88787841796875\n",
      "Epoch 8 in 0.10 sec\n",
      "Training set accuracy 18.887727737426758\n",
      "Test set accuracy 18.887727737426758\n",
      "Epoch 9 in 0.14 sec\n",
      "Training set accuracy 18.8875732421875\n",
      "Test set accuracy 18.8875732421875\n",
      "Epoch 10 in 0.14 sec\n",
      "Training set accuracy 18.887420654296875\n",
      "Test set accuracy 18.887420654296875\n",
      "Epoch 11 in 0.14 sec\n",
      "Training set accuracy 18.88727378845215\n",
      "Test set accuracy 18.88727378845215\n",
      "Epoch 12 in 0.12 sec\n",
      "Training set accuracy 18.88711929321289\n",
      "Test set accuracy 18.88711929321289\n",
      "Epoch 13 in 0.14 sec\n",
      "Training set accuracy 18.886974334716797\n",
      "Test set accuracy 18.886974334716797\n",
      "Epoch 14 in 0.12 sec\n",
      "Training set accuracy 18.886821746826172\n",
      "Test set accuracy 18.886821746826172\n",
      "Epoch 15 in 0.10 sec\n",
      "Training set accuracy 18.88666534423828\n",
      "Test set accuracy 18.88666534423828\n",
      "Epoch 16 in 0.10 sec\n",
      "Training set accuracy 18.886518478393555\n",
      "Test set accuracy 18.886518478393555\n",
      "Epoch 17 in 0.09 sec\n",
      "Training set accuracy 18.88636589050293\n",
      "Test set accuracy 18.88636589050293\n",
      "Epoch 18 in 0.11 sec\n",
      "Training set accuracy 18.886213302612305\n",
      "Test set accuracy 18.88620948791504\n",
      "Epoch 19 in 0.09 sec\n",
      "Training set accuracy 18.886062622070312\n",
      "Test set accuracy 18.886062622070312\n",
      "Epoch 20 in 0.10 sec\n",
      "Training set accuracy 18.885906219482422\n",
      "Test set accuracy 18.885906219482422\n",
      "Epoch 21 in 0.11 sec\n",
      "Training set accuracy 18.885757446289062\n",
      "Test set accuracy 18.885757446289062\n",
      "Epoch 22 in 0.09 sec\n",
      "Training set accuracy 18.885602951049805\n",
      "Test set accuracy 18.885602951049805\n",
      "Epoch 23 in 0.10 sec\n",
      "Training set accuracy 18.885452270507812\n",
      "Test set accuracy 18.885452270507812\n",
      "Epoch 24 in 0.13 sec\n",
      "Training set accuracy 18.885299682617188\n",
      "Test set accuracy 18.885299682617188\n",
      "Epoch 25 in 0.12 sec\n",
      "Training set accuracy 18.885150909423828\n",
      "Test set accuracy 18.885150909423828\n",
      "Epoch 26 in 0.13 sec\n",
      "Training set accuracy 18.884998321533203\n",
      "Test set accuracy 18.884998321533203\n",
      "Epoch 27 in 0.14 sec\n",
      "Training set accuracy 18.884843826293945\n",
      "Test set accuracy 18.884843826293945\n",
      "Epoch 28 in 0.14 sec\n",
      "Training set accuracy 18.884695053100586\n",
      "Test set accuracy 18.884702682495117\n",
      "Epoch 29 in 0.13 sec\n",
      "Training set accuracy 18.884540557861328\n",
      "Test set accuracy 18.88454246520996\n",
      "Epoch 30 in 0.11 sec\n",
      "Training set accuracy 18.8843936920166\n",
      "Test set accuracy 18.8843936920166\n",
      "Epoch 31 in 0.10 sec\n",
      "Training set accuracy 18.884235382080078\n",
      "Test set accuracy 18.884241104125977\n"
     ]
    },
    {
     "data": {
      "text/plain": [
       "DeviceArray([[[[ 0.00222962,  0.00242354,  0.00256803,  0.00242344,\n",
       "                 0.00223156],\n",
       "               [ 0.00242009,  0.00263096,  0.00278868,  0.00263241,\n",
       "                 0.00242475],\n",
       "               [ 0.00256429,  0.00278772,  0.00295527,  0.00278999,\n",
       "                 0.00257026],\n",
       "               [ 0.00241829,  0.00262932,  0.00278786,  0.00263257,\n",
       "                 0.00242566],\n",
       "               [ 0.00222514,  0.00241954,  0.00256571,  0.00242297,\n",
       "                 0.00223263]],\n",
       "\n",
       "              [[ 0.00221495,  0.00240648,  0.00255323,  0.0024098 ,\n",
       "                 0.00221801],\n",
       "               [ 0.00240578,  0.00261379,  0.00277367,  0.00261772,\n",
       "                 0.00240976],\n",
       "               [ 0.00255058,  0.00277135,  0.00294079,  0.00277568,\n",
       "                 0.00255518],\n",
       "               [ 0.00240682,  0.00261545,  0.00277527,  0.00261959,\n",
       "                 0.00241147],\n",
       "               [ 0.0022143 ,  0.00240616,  0.00255312,  0.00240973,\n",
       "                 0.00221805]]],\n",
       "\n",
       "\n",
       "             [[[-0.02653505, -0.02919396, -0.03185886, -0.02919398,\n",
       "                -0.02653516],\n",
       "               [-0.02919384, -0.03211904, -0.03505062, -0.03211909,\n",
       "                -0.02919404],\n",
       "               [-0.03185869, -0.03505055, -0.03824899, -0.03505064,\n",
       "                -0.03185888],\n",
       "               [-0.0291938 , -0.032119  , -0.03505057, -0.03211905,\n",
       "                -0.02919399],\n",
       "               [-0.02653488, -0.02919382, -0.03185871, -0.02919388,\n",
       "                -0.02653508]],\n",
       "\n",
       "              [[-0.02653385, -0.02919265, -0.03185754, -0.02919267,\n",
       "                -0.02653389],\n",
       "               [-0.02919262, -0.03211769, -0.03504925, -0.03211772,\n",
       "                -0.02919267],\n",
       "               [-0.03185748, -0.03504918, -0.03824763, -0.03504924,\n",
       "                -0.03185752],\n",
       "               [-0.02919261, -0.03211766, -0.03504927, -0.0321177 ,\n",
       "                -0.02919268],\n",
       "               [-0.0265338 , -0.02919262, -0.03185749, -0.02919267,\n",
       "                -0.02653388]]]], dtype=float32)"
      ]
     },
     "execution_count": 79,
     "metadata": {},
     "output_type": "execute_result"
    },
    {
     "data": {
      "image/png": "[encoded data removed]",
      "text/plain": [
       "<Figure size 432x288 with 1 Axes>"
      ]
     },
     "metadata": {
      "needs_background": "light"
     },
     "output_type": "display_data"
    }
   ],
   "source": [
    "@jit\n",
    "def dungeon_loss_2(params, batch):\n",
    "    '''Simultaneously lower density and number of connected components'''\n",
    "    x, y = batch\n",
    "    out = dungeon(params, x)\n",
    "    # map 0.0, 1.0 to -1.0, 1.0, convolve with kernel\n",
    "    e = np.sum(out)\n",
    "    v = np.prod(np.array(out.shape))\n",
    "    # d=density\n",
    "    d = 2. * e / (v * (v - 1.))\n",
    "    cc = predict(cc_params, out, rng=random.PRNGKey(0))\n",
    "    return np.mean(((d + cc) - y) ** 2.)\n",
    "\n",
    "def dungeon_opt_2():\n",
    "    init_rng = random.PRNGKey(0)\n",
    "    step_size = 0.01\n",
    "    momentum_mass = 0.9\n",
    "    num_epochs = 32\n",
    "    batch_size = 32\n",
    "    train_X = np.squeeze(np.array([onp.random.rand(1, 2, dungeon_rows, dungeon_cols) for _ in range(num_epochs * batch_size)]), 1)\n",
    "    train_y = np.array([0. for _ in range(train_X.shape[0])])\n",
    "    num_train = train_X.shape[0]\n",
    "    num_complete_batches, leftover = divmod(train_X.shape[0], batch_size)\n",
    "    num_batches = num_complete_batches + bool(leftover)\n",
    "    print(\"Input shape:\", train_X.shape)\n",
    "    print(\"Output shape\", train_y.shape)\n",
    "    print(\"Num Epochs:\", num_epochs)\n",
    "    print(\"Num Batches:\", num_batches)\n",
    "\n",
    "    def data_stream():\n",
    "        rng = onp.random.RandomState(0)\n",
    "        while True:\n",
    "            perm = rng.permutation(num_train)\n",
    "            for i in range(num_batches):\n",
    "                batch_idx = perm[i * batch_size:(i + 1) * batch_size]\n",
    "                yield train_X[batch_idx], train_y[batch_idx]\n",
    "    batches = data_stream()\n",
    "  \n",
    "\n",
    "\n",
    "    opt_init, opt_update, get_params = optimizers.momentum(step_size, mass=momentum_mass)\n",
    "\n",
    "    @jit\n",
    "    def update(rng, i, opt_state, batch):\n",
    "        params = get_params(opt_state)\n",
    "        return opt_update(i, grad(dungeon_loss_2)(params, batch), opt_state)\n",
    "\n",
    "    init_params = np.zeros((2, 2, 5, 5))\n",
    "    opt_state = opt_init(init_params)\n",
    "    itercount = itertools.count()\n",
    "\n",
    "    \n",
    "    print(\"\\nStarting training...\")\n",
    "    losses = []\n",
    "    test_accs = []\n",
    "    params = get_params(opt_state)\n",
    "    #train_acc = accuracy(params, (train_images, train_cc), rng=init_rng)\n",
    "    #losses.append(train_acc)\n",
    "    #test_acc = test_accuracy(params)\n",
    "    #test_accs.append(test_acc)\n",
    "    print(\"Epoch init \")\n",
    "    #print(\"Training set accuracy {}\".format(train_acc))\n",
    "    #print(\"Test set accuracy {}\".format(test_acc))\n",
    "\n",
    "    for epoch in range(num_epochs):\n",
    "        rng = random.PRNGKey(epoch)\n",
    "        start_time = time.time()\n",
    "        epoch_batch = None\n",
    "        for _ in range(num_batches):\n",
    "            batch = next(batches)\n",
    "            epoch_batch = batch\n",
    "            opt_state = update(rng, next(itercount), opt_state, batch)\n",
    "        params = get_params(opt_state)\n",
    "        losses.append(dungeon_loss_2(params, epoch_batch))\n",
    "        test_accs.append(dungeon_loss_2(params, next(batches)))\n",
    "        epoch_time = time.time() - start_time\n",
    "        print(\"Epoch {} in {:0.2f} sec\".format(epoch, epoch_time))\n",
    "        print(\"Training set accuracy {}\".format(losses[-1]))\n",
    "        print(\"Test set accuracy {}\".format(test_accs[-1]))\n",
    "    plt.plot(losses)\n",
    "    plt.plot(test_accs)\n",
    "    return params\n",
    "\n",
    "dungeon_params_2 = dungeon_opt_2()\n",
    "dungeon_params_2"
   ]
  },
  {
   "cell_type": "code",
   "execution_count": 80,
   "metadata": {},
   "outputs": [
    {
     "name": "stdout",
     "output_type": "stream",
     "text": [
      "[[ 0  0  0 ...  0  0  0]\n",
      " [ 0  0  0 ...  0  0  0]\n",
      " [ 0  0  0 ...  0  0  0]\n",
      " ...\n",
      " [14 14 14 ...  9  9  9]\n",
      " [14 14 14 ...  9  9  9]\n",
      " [14 14 14 ...  9  9  9]]\n",
      "[[   0    1    7    9    3    8    2   14   13   12   11   10    6    5\n",
      "     4]\n",
      " [1326  222  197  116   86   83   27   19   19   19   19   19   19   19\n",
      "    19]]\n"
     ]
    },
    {
     "data": {
      "image/png": "[encoded data removed]",
      "text/plain": [
       "<Figure size 432x288 with 1 Axes>"
      ]
     },
     "metadata": {
      "needs_background": "light"
     },
     "output_type": "display_data"
    }
   ],
   "source": [
    "d = onp.random.binomial(1, dungeon(dungeon_params_2, onp.random.rand(1, 2, dungeon_rows, dungeon_cols)))\n",
    "t = connected_components(draw_dense_dungeon(d) * -1. + 1.)\n",
    "sess = tf.Session();\n",
    "with sess.as_default():\n",
    "    #print(t.eval())\n",
    "    te = t.eval()\n",
    "    print(te)\n",
    "    a = onp.array(onp.unique(te, return_counts=True))\n",
    "    sorted_cc = a[:, a[1,:].argsort()[::-1]]\n",
    "    print(sorted_cc)\n",
    "    plt.imshow(onp.where(te == sorted_cc[0, 1], 0., 1.), vmin=0., vmax=1.)"
   ]
  },
  {
   "cell_type": "code",
   "execution_count": 81,
   "metadata": {},
   "outputs": [
    {
     "name": "stdout",
     "output_type": "stream",
     "text": [
      "[[   0    8   19   18    2   14   17    1    4    3    5    6    7   21\n",
      "     9   20   11   12   13   15   16   10]\n",
      " [1341  180  148  115   58   54   23   23   23   19   19   19   19   19\n",
      "    19   19   19   19   19   19   19   16]]\n",
      "[[   0    3    5   12   16    9    6   21    8   18   15    1   19   13\n",
      "    22   10    4    2   23    7   14   17   20   11]\n",
      " [1367  153   83   58   52   47   44   42   38   27   27   23   23   23\n",
      "    23   23   23   19   19   19   19   19   19   19]]\n",
      "[[   0    1   12    3    6   13    5    8   11   10   14    9    7    4\n",
      "     2]\n",
      " [1396  190  117  115   78   64   57   51   23   23   19   19   19   19\n",
      "    19]]\n",
      "[[   0   11    1   14    9   12    2    7    6    3   16   15    5    4\n",
      "    10   13    8]\n",
      " [1329  182  177  123   80   52   38   37   27   23   23   23   19   19\n",
      "    19   19   19]]\n",
      "[[   0    2   12    1    5   17    4    8   15   14    7   13   11   10\n",
      "     6    9   16    3]\n",
      " [1263  213  175  105   80   43   39   39   38   34   27   27   23   23\n",
      "    23   19   19   19]]\n",
      "[[   0    6    1    8   12   10    4   11   15    5    3    2   14   13\n",
      "     9    7]\n",
      " [1320  230  140   98   90   68   47   38   29   27   23   23   19   19\n",
      "    19   19]]\n",
      "[[   0    4   10    1    3   13    2    9    8    6   14   12   11    7\n",
      "     5]\n",
      " [1356  202  162  119  108   56   43   23   23   22   19   19   19   19\n",
      "    19]]\n",
      "[[   0    1    9    2   11    5   14    7    6    3    4   16   15   10\n",
      "    12   13    8]\n",
      " [1265  473   82   68   66   34   23   23   23   19   19   19   19   19\n",
      "    19   19   19]]\n",
      "[[   0    2    8   10   11    1    9   12    3   15   14   13    7    6\n",
      "     5    4]\n",
      " [1374  184  171  122   78   64   29   27   27   19   19   19   19   19\n",
      "    19   19]]\n",
      "[[   0    1   13    6    2    8    5    7   10    3   11    9   12    4\n",
      "    14   16   15   17]\n",
      " [1362  161  142   96   70   67   44   42   27   27   23   23   23   23\n",
      "    22   19   19   19]]\n",
      "[[   0   19   20    1   21    7   11   14    4   10   17   18    9   16\n",
      "     5    2    3    8    6   15   22   12   13   23]\n",
      " [1377  119  105   53   52   47   46   43   42   39   31   23   23   19\n",
      "    19   19   19   19   19   19   19   19   19   19]]\n",
      "[[   0    4   13   14   11    5    9    2    3   16   15    6    7   10\n",
      "    12    1    8]\n",
      " [1309  350  133   73   49   35   34   33   33   23   23   19   19   19\n",
      "    19   19   19]]\n"
     ]
    },
    {
     "data": {
      "image/png": "[encoded data removed]",
      "text/plain": [
       "<Figure size 864x864 with 12 Axes>"
      ]
     },
     "metadata": {
      "needs_background": "light"
     },
     "output_type": "display_data"
    }
   ],
   "source": [
    "plt.subplots(figsize=(12, 12))\n",
    "sess = tf.Session();\n",
    "with sess.as_default():\n",
    "    for i in range(1, 4):\n",
    "        for j in range(1, 5):\n",
    "            d = onp.random.binomial(1, dungeon(dungeon_params_2, onp.random.rand(1, 2, dungeon_rows, dungeon_cols)))\n",
    "            t = connected_components(draw_dense_dungeon(d) * -1. + 1.).eval()\n",
    "            a = onp.array(onp.unique(t, return_counts=True))\n",
    "            sorted_cc = a[:, a[1,:].argsort()[::-1]]\n",
    "            #print(4, 5, (i - 1) * 4 + j)\n",
    "            plt.subplot(3, 4, (i - 1) * 4 + j)\n",
    "            plt.imshow(onp.where(t == sorted_cc[0, 1], 0., 1.), vmin=0., vmax=1.)\n",
    "plt.tight_layout()"
   ]
  },
  {
   "cell_type": "code",
   "execution_count": null,
   "metadata": {},
   "outputs": [],
   "source": []
  }
 ],
 "metadata": {
  "kernelspec": {
   "display_name": "Python [conda env:diff_procgen]",
   "language": "python",
   "name": "conda-env-diff_procgen-py"
  },
  "language_info": {
   "codemirror_mode": {
    "name": "ipython",
    "version": 3
   },
   "file_extension": ".py",
   "mimetype": "text/x-python",
   "name": "python",
   "nbconvert_exporter": "python",
   "pygments_lexer": "ipython3",
   "version": "3.7.3"
  }
 },
 "nbformat": 4,
 "nbformat_minor": 4
}
